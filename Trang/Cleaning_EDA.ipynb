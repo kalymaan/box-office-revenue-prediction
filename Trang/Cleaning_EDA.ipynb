{
 "cells": [
  {
   "cell_type": "code",
   "execution_count": 1,
   "id": "0fdc87f3-f5b2-49d6-9191-ce4b86290795",
   "metadata": {
    "tags": []
   },
   "outputs": [],
   "source": [
    "# import libraries\n",
    "\n",
    "import pandas as pd\n",
    "import numpy as np\n",
    "import matplotlib.pyplot as plt\n",
    "import seaborn as sns\n",
    "import ast\n",
    "from datetime import datetime"
   ]
  },
  {
   "cell_type": "code",
   "execution_count": 2,
   "id": "edaf031a-99a7-494b-8442-8ce347734596",
   "metadata": {
    "tags": []
   },
   "outputs": [],
   "source": [
    "#Read in csv file\n",
    "\n",
    "train = pd.read_csv('../datasets/train.csv')\n",
    "test = pd.read_csv('../datasets/test.csv')"
   ]
  },
  {
   "cell_type": "code",
   "execution_count": 3,
   "id": "fe4159f9-2f5f-4585-adb5-83ac42f2117f",
   "metadata": {
    "tags": []
   },
   "outputs": [
    {
     "name": "stdout",
     "output_type": "stream",
     "text": [
      "<class 'pandas.core.frame.DataFrame'>\n",
      "RangeIndex: 3000 entries, 0 to 2999\n",
      "Data columns (total 23 columns):\n",
      " #   Column                 Non-Null Count  Dtype  \n",
      "---  ------                 --------------  -----  \n",
      " 0   id                     3000 non-null   int64  \n",
      " 1   belongs_to_collection  604 non-null    object \n",
      " 2   budget                 3000 non-null   int64  \n",
      " 3   genres                 2993 non-null   object \n",
      " 4   homepage               946 non-null    object \n",
      " 5   imdb_id                3000 non-null   object \n",
      " 6   original_language      3000 non-null   object \n",
      " 7   original_title         3000 non-null   object \n",
      " 8   overview               2992 non-null   object \n",
      " 9   popularity             3000 non-null   float64\n",
      " 10  poster_path            2999 non-null   object \n",
      " 11  production_companies   2844 non-null   object \n",
      " 12  production_countries   2945 non-null   object \n",
      " 13  release_date           3000 non-null   object \n",
      " 14  runtime                2998 non-null   float64\n",
      " 15  spoken_languages       2980 non-null   object \n",
      " 16  status                 3000 non-null   object \n",
      " 17  tagline                2403 non-null   object \n",
      " 18  title                  3000 non-null   object \n",
      " 19  Keywords               2724 non-null   object \n",
      " 20  cast                   2987 non-null   object \n",
      " 21  crew                   2984 non-null   object \n",
      " 22  revenue                3000 non-null   int64  \n",
      "dtypes: float64(2), int64(3), object(18)\n",
      "memory usage: 539.2+ KB\n"
     ]
    }
   ],
   "source": [
    "train.info()"
   ]
  },
  {
   "cell_type": "code",
   "execution_count": 4,
   "id": "c70047bd-5d89-4665-92d1-3bbb5042f2b8",
   "metadata": {
    "tags": []
   },
   "outputs": [
    {
     "data": {
      "text/html": [
       "<div>\n",
       "<style scoped>\n",
       "    .dataframe tbody tr th:only-of-type {\n",
       "        vertical-align: middle;\n",
       "    }\n",
       "\n",
       "    .dataframe tbody tr th {\n",
       "        vertical-align: top;\n",
       "    }\n",
       "\n",
       "    .dataframe thead th {\n",
       "        text-align: right;\n",
       "    }\n",
       "</style>\n",
       "<table border=\"1\" class=\"dataframe\">\n",
       "  <thead>\n",
       "    <tr style=\"text-align: right;\">\n",
       "      <th></th>\n",
       "      <th>id</th>\n",
       "      <th>belongs_to_collection</th>\n",
       "      <th>budget</th>\n",
       "      <th>genres</th>\n",
       "      <th>homepage</th>\n",
       "      <th>imdb_id</th>\n",
       "      <th>original_language</th>\n",
       "      <th>original_title</th>\n",
       "      <th>overview</th>\n",
       "      <th>popularity</th>\n",
       "      <th>...</th>\n",
       "      <th>release_date</th>\n",
       "      <th>runtime</th>\n",
       "      <th>spoken_languages</th>\n",
       "      <th>status</th>\n",
       "      <th>tagline</th>\n",
       "      <th>title</th>\n",
       "      <th>Keywords</th>\n",
       "      <th>cast</th>\n",
       "      <th>crew</th>\n",
       "      <th>revenue</th>\n",
       "    </tr>\n",
       "  </thead>\n",
       "  <tbody>\n",
       "    <tr>\n",
       "      <th>0</th>\n",
       "      <td>1</td>\n",
       "      <td>[{'id': 313576, 'name': 'Hot Tub Time Machine ...</td>\n",
       "      <td>14000000</td>\n",
       "      <td>[{'id': 35, 'name': 'Comedy'}]</td>\n",
       "      <td>NaN</td>\n",
       "      <td>tt2637294</td>\n",
       "      <td>en</td>\n",
       "      <td>Hot Tub Time Machine 2</td>\n",
       "      <td>When Lou, who has become the \"father of the In...</td>\n",
       "      <td>6.575393</td>\n",
       "      <td>...</td>\n",
       "      <td>2/20/15</td>\n",
       "      <td>93.0</td>\n",
       "      <td>[{'iso_639_1': 'en', 'name': 'English'}]</td>\n",
       "      <td>Released</td>\n",
       "      <td>The Laws of Space and Time are About to be Vio...</td>\n",
       "      <td>Hot Tub Time Machine 2</td>\n",
       "      <td>[{'id': 4379, 'name': 'time travel'}, {'id': 9...</td>\n",
       "      <td>[{'cast_id': 4, 'character': 'Lou', 'credit_id...</td>\n",
       "      <td>[{'credit_id': '59ac067c92514107af02c8c8', 'de...</td>\n",
       "      <td>12314651</td>\n",
       "    </tr>\n",
       "    <tr>\n",
       "      <th>1</th>\n",
       "      <td>2</td>\n",
       "      <td>[{'id': 107674, 'name': 'The Princess Diaries ...</td>\n",
       "      <td>40000000</td>\n",
       "      <td>[{'id': 35, 'name': 'Comedy'}, {'id': 18, 'nam...</td>\n",
       "      <td>NaN</td>\n",
       "      <td>tt0368933</td>\n",
       "      <td>en</td>\n",
       "      <td>The Princess Diaries 2: Royal Engagement</td>\n",
       "      <td>Mia Thermopolis is now a college graduate and ...</td>\n",
       "      <td>8.248895</td>\n",
       "      <td>...</td>\n",
       "      <td>8/6/04</td>\n",
       "      <td>113.0</td>\n",
       "      <td>[{'iso_639_1': 'en', 'name': 'English'}]</td>\n",
       "      <td>Released</td>\n",
       "      <td>It can take a lifetime to find true love; she'...</td>\n",
       "      <td>The Princess Diaries 2: Royal Engagement</td>\n",
       "      <td>[{'id': 2505, 'name': 'coronation'}, {'id': 42...</td>\n",
       "      <td>[{'cast_id': 1, 'character': 'Mia Thermopolis'...</td>\n",
       "      <td>[{'credit_id': '52fe43fe9251416c7502563d', 'de...</td>\n",
       "      <td>95149435</td>\n",
       "    </tr>\n",
       "    <tr>\n",
       "      <th>2</th>\n",
       "      <td>3</td>\n",
       "      <td>NaN</td>\n",
       "      <td>3300000</td>\n",
       "      <td>[{'id': 18, 'name': 'Drama'}]</td>\n",
       "      <td>http://sonyclassics.com/whiplash/</td>\n",
       "      <td>tt2582802</td>\n",
       "      <td>en</td>\n",
       "      <td>Whiplash</td>\n",
       "      <td>Under the direction of a ruthless instructor, ...</td>\n",
       "      <td>64.299990</td>\n",
       "      <td>...</td>\n",
       "      <td>10/10/14</td>\n",
       "      <td>105.0</td>\n",
       "      <td>[{'iso_639_1': 'en', 'name': 'English'}]</td>\n",
       "      <td>Released</td>\n",
       "      <td>The road to greatness can take you to the edge.</td>\n",
       "      <td>Whiplash</td>\n",
       "      <td>[{'id': 1416, 'name': 'jazz'}, {'id': 1523, 'n...</td>\n",
       "      <td>[{'cast_id': 5, 'character': 'Andrew Neimann',...</td>\n",
       "      <td>[{'credit_id': '54d5356ec3a3683ba0000039', 'de...</td>\n",
       "      <td>13092000</td>\n",
       "    </tr>\n",
       "    <tr>\n",
       "      <th>3</th>\n",
       "      <td>4</td>\n",
       "      <td>NaN</td>\n",
       "      <td>1200000</td>\n",
       "      <td>[{'id': 53, 'name': 'Thriller'}, {'id': 18, 'n...</td>\n",
       "      <td>http://kahaanithefilm.com/</td>\n",
       "      <td>tt1821480</td>\n",
       "      <td>hi</td>\n",
       "      <td>Kahaani</td>\n",
       "      <td>Vidya Bagchi (Vidya Balan) arrives in Kolkata ...</td>\n",
       "      <td>3.174936</td>\n",
       "      <td>...</td>\n",
       "      <td>3/9/12</td>\n",
       "      <td>122.0</td>\n",
       "      <td>[{'iso_639_1': 'en', 'name': 'English'}, {'iso...</td>\n",
       "      <td>Released</td>\n",
       "      <td>NaN</td>\n",
       "      <td>Kahaani</td>\n",
       "      <td>[{'id': 10092, 'name': 'mystery'}, {'id': 1054...</td>\n",
       "      <td>[{'cast_id': 1, 'character': 'Vidya Bagchi', '...</td>\n",
       "      <td>[{'credit_id': '52fe48779251416c9108d6eb', 'de...</td>\n",
       "      <td>16000000</td>\n",
       "    </tr>\n",
       "    <tr>\n",
       "      <th>4</th>\n",
       "      <td>5</td>\n",
       "      <td>NaN</td>\n",
       "      <td>0</td>\n",
       "      <td>[{'id': 28, 'name': 'Action'}, {'id': 53, 'nam...</td>\n",
       "      <td>NaN</td>\n",
       "      <td>tt1380152</td>\n",
       "      <td>ko</td>\n",
       "      <td>마린보이</td>\n",
       "      <td>Marine Boy is the story of a former national s...</td>\n",
       "      <td>1.148070</td>\n",
       "      <td>...</td>\n",
       "      <td>2/5/09</td>\n",
       "      <td>118.0</td>\n",
       "      <td>[{'iso_639_1': 'ko', 'name': '한국어/조선말'}]</td>\n",
       "      <td>Released</td>\n",
       "      <td>NaN</td>\n",
       "      <td>Marine Boy</td>\n",
       "      <td>NaN</td>\n",
       "      <td>[{'cast_id': 3, 'character': 'Chun-soo', 'cred...</td>\n",
       "      <td>[{'credit_id': '52fe464b9251416c75073b43', 'de...</td>\n",
       "      <td>3923970</td>\n",
       "    </tr>\n",
       "  </tbody>\n",
       "</table>\n",
       "<p>5 rows × 23 columns</p>\n",
       "</div>"
      ],
      "text/plain": [
       "   id                              belongs_to_collection    budget  \\\n",
       "0   1  [{'id': 313576, 'name': 'Hot Tub Time Machine ...  14000000   \n",
       "1   2  [{'id': 107674, 'name': 'The Princess Diaries ...  40000000   \n",
       "2   3                                                NaN   3300000   \n",
       "3   4                                                NaN   1200000   \n",
       "4   5                                                NaN         0   \n",
       "\n",
       "                                              genres  \\\n",
       "0                     [{'id': 35, 'name': 'Comedy'}]   \n",
       "1  [{'id': 35, 'name': 'Comedy'}, {'id': 18, 'nam...   \n",
       "2                      [{'id': 18, 'name': 'Drama'}]   \n",
       "3  [{'id': 53, 'name': 'Thriller'}, {'id': 18, 'n...   \n",
       "4  [{'id': 28, 'name': 'Action'}, {'id': 53, 'nam...   \n",
       "\n",
       "                            homepage    imdb_id original_language  \\\n",
       "0                                NaN  tt2637294                en   \n",
       "1                                NaN  tt0368933                en   \n",
       "2  http://sonyclassics.com/whiplash/  tt2582802                en   \n",
       "3         http://kahaanithefilm.com/  tt1821480                hi   \n",
       "4                                NaN  tt1380152                ko   \n",
       "\n",
       "                             original_title  \\\n",
       "0                    Hot Tub Time Machine 2   \n",
       "1  The Princess Diaries 2: Royal Engagement   \n",
       "2                                  Whiplash   \n",
       "3                                   Kahaani   \n",
       "4                                      마린보이   \n",
       "\n",
       "                                            overview  popularity  ...  \\\n",
       "0  When Lou, who has become the \"father of the In...    6.575393  ...   \n",
       "1  Mia Thermopolis is now a college graduate and ...    8.248895  ...   \n",
       "2  Under the direction of a ruthless instructor, ...   64.299990  ...   \n",
       "3  Vidya Bagchi (Vidya Balan) arrives in Kolkata ...    3.174936  ...   \n",
       "4  Marine Boy is the story of a former national s...    1.148070  ...   \n",
       "\n",
       "  release_date runtime                                   spoken_languages  \\\n",
       "0      2/20/15    93.0           [{'iso_639_1': 'en', 'name': 'English'}]   \n",
       "1       8/6/04   113.0           [{'iso_639_1': 'en', 'name': 'English'}]   \n",
       "2     10/10/14   105.0           [{'iso_639_1': 'en', 'name': 'English'}]   \n",
       "3       3/9/12   122.0  [{'iso_639_1': 'en', 'name': 'English'}, {'iso...   \n",
       "4       2/5/09   118.0           [{'iso_639_1': 'ko', 'name': '한국어/조선말'}]   \n",
       "\n",
       "     status                                            tagline  \\\n",
       "0  Released  The Laws of Space and Time are About to be Vio...   \n",
       "1  Released  It can take a lifetime to find true love; she'...   \n",
       "2  Released    The road to greatness can take you to the edge.   \n",
       "3  Released                                                NaN   \n",
       "4  Released                                                NaN   \n",
       "\n",
       "                                      title  \\\n",
       "0                    Hot Tub Time Machine 2   \n",
       "1  The Princess Diaries 2: Royal Engagement   \n",
       "2                                  Whiplash   \n",
       "3                                   Kahaani   \n",
       "4                                Marine Boy   \n",
       "\n",
       "                                            Keywords  \\\n",
       "0  [{'id': 4379, 'name': 'time travel'}, {'id': 9...   \n",
       "1  [{'id': 2505, 'name': 'coronation'}, {'id': 42...   \n",
       "2  [{'id': 1416, 'name': 'jazz'}, {'id': 1523, 'n...   \n",
       "3  [{'id': 10092, 'name': 'mystery'}, {'id': 1054...   \n",
       "4                                                NaN   \n",
       "\n",
       "                                                cast  \\\n",
       "0  [{'cast_id': 4, 'character': 'Lou', 'credit_id...   \n",
       "1  [{'cast_id': 1, 'character': 'Mia Thermopolis'...   \n",
       "2  [{'cast_id': 5, 'character': 'Andrew Neimann',...   \n",
       "3  [{'cast_id': 1, 'character': 'Vidya Bagchi', '...   \n",
       "4  [{'cast_id': 3, 'character': 'Chun-soo', 'cred...   \n",
       "\n",
       "                                                crew   revenue  \n",
       "0  [{'credit_id': '59ac067c92514107af02c8c8', 'de...  12314651  \n",
       "1  [{'credit_id': '52fe43fe9251416c7502563d', 'de...  95149435  \n",
       "2  [{'credit_id': '54d5356ec3a3683ba0000039', 'de...  13092000  \n",
       "3  [{'credit_id': '52fe48779251416c9108d6eb', 'de...  16000000  \n",
       "4  [{'credit_id': '52fe464b9251416c75073b43', 'de...   3923970  \n",
       "\n",
       "[5 rows x 23 columns]"
      ]
     },
     "execution_count": 4,
     "metadata": {},
     "output_type": "execute_result"
    }
   ],
   "source": [
    "train.head()"
   ]
  },
  {
   "cell_type": "code",
   "execution_count": 5,
   "id": "01fb58da-b719-4af5-ac44-0e0e64ff48d3",
   "metadata": {
    "tags": []
   },
   "outputs": [
    {
     "data": {
      "text/plain": [
       "0    [{'id': 313576, 'name': 'Hot Tub Time Machine ...\n",
       "1    [{'id': 107674, 'name': 'The Princess Diaries ...\n",
       "2                                                  NaN\n",
       "3                                                  NaN\n",
       "4                                                  NaN\n",
       "Name: belongs_to_collection, dtype: object"
      ]
     },
     "execution_count": 5,
     "metadata": {},
     "output_type": "execute_result"
    }
   ],
   "source": [
    "train['belongs_to_collection'].head()"
   ]
  },
  {
   "cell_type": "code",
   "execution_count": 6,
   "id": "f3b4dfc1-95f9-4a7a-b0aa-0459dff19811",
   "metadata": {
    "tags": []
   },
   "outputs": [
    {
     "data": {
      "text/plain": [
       "812"
      ]
     },
     "execution_count": 6,
     "metadata": {},
     "output_type": "execute_result"
    }
   ],
   "source": [
    "train[train['budget']==0]['budget'].count()"
   ]
  },
  {
   "cell_type": "code",
   "execution_count": 7,
   "id": "a4d8b1c8-de76-4213-b950-0d388548a75e",
   "metadata": {
    "tags": []
   },
   "outputs": [
    {
     "data": {
      "text/html": [
       "<div>\n",
       "<style scoped>\n",
       "    .dataframe tbody tr th:only-of-type {\n",
       "        vertical-align: middle;\n",
       "    }\n",
       "\n",
       "    .dataframe tbody tr th {\n",
       "        vertical-align: top;\n",
       "    }\n",
       "\n",
       "    .dataframe thead th {\n",
       "        text-align: right;\n",
       "    }\n",
       "</style>\n",
       "<table border=\"1\" class=\"dataframe\">\n",
       "  <thead>\n",
       "    <tr style=\"text-align: right;\">\n",
       "      <th></th>\n",
       "      <th>id</th>\n",
       "      <th>belongs_to_collection</th>\n",
       "      <th>budget</th>\n",
       "      <th>genres</th>\n",
       "      <th>homepage</th>\n",
       "      <th>imdb_id</th>\n",
       "      <th>original_language</th>\n",
       "      <th>original_title</th>\n",
       "      <th>overview</th>\n",
       "      <th>popularity</th>\n",
       "      <th>...</th>\n",
       "      <th>release_date</th>\n",
       "      <th>runtime</th>\n",
       "      <th>spoken_languages</th>\n",
       "      <th>status</th>\n",
       "      <th>tagline</th>\n",
       "      <th>title</th>\n",
       "      <th>Keywords</th>\n",
       "      <th>cast</th>\n",
       "      <th>crew</th>\n",
       "      <th>revenue</th>\n",
       "    </tr>\n",
       "  </thead>\n",
       "  <tbody>\n",
       "    <tr>\n",
       "      <th>4</th>\n",
       "      <td>5</td>\n",
       "      <td>NaN</td>\n",
       "      <td>0</td>\n",
       "      <td>[{'id': 28, 'name': 'Action'}, {'id': 53, 'nam...</td>\n",
       "      <td>NaN</td>\n",
       "      <td>tt1380152</td>\n",
       "      <td>ko</td>\n",
       "      <td>마린보이</td>\n",
       "      <td>Marine Boy is the story of a former national s...</td>\n",
       "      <td>1.148070</td>\n",
       "      <td>...</td>\n",
       "      <td>2/5/09</td>\n",
       "      <td>118.0</td>\n",
       "      <td>[{'iso_639_1': 'ko', 'name': '한국어/조선말'}]</td>\n",
       "      <td>Released</td>\n",
       "      <td>NaN</td>\n",
       "      <td>Marine Boy</td>\n",
       "      <td>NaN</td>\n",
       "      <td>[{'cast_id': 3, 'character': 'Chun-soo', 'cred...</td>\n",
       "      <td>[{'credit_id': '52fe464b9251416c75073b43', 'de...</td>\n",
       "      <td>3923970</td>\n",
       "    </tr>\n",
       "    <tr>\n",
       "      <th>7</th>\n",
       "      <td>8</td>\n",
       "      <td>NaN</td>\n",
       "      <td>0</td>\n",
       "      <td>[{'id': 99, 'name': 'Documentary'}]</td>\n",
       "      <td>NaN</td>\n",
       "      <td>tt0391024</td>\n",
       "      <td>en</td>\n",
       "      <td>Control Room</td>\n",
       "      <td>A chronicle which provides a rare window into ...</td>\n",
       "      <td>1.949044</td>\n",
       "      <td>...</td>\n",
       "      <td>1/15/04</td>\n",
       "      <td>84.0</td>\n",
       "      <td>[{'iso_639_1': 'ar', 'name': 'العربية'}, {'iso...</td>\n",
       "      <td>Released</td>\n",
       "      <td>Different channels. Different truths.</td>\n",
       "      <td>Control Room</td>\n",
       "      <td>[{'id': 917, 'name': 'journalism'}, {'id': 163...</td>\n",
       "      <td>[{'cast_id': 2, 'character': 'Himself', 'credi...</td>\n",
       "      <td>[{'credit_id': '52fe47a69251416c750a0daf', 'de...</td>\n",
       "      <td>2586511</td>\n",
       "    </tr>\n",
       "    <tr>\n",
       "      <th>8</th>\n",
       "      <td>9</td>\n",
       "      <td>[{'id': 256377, 'name': 'The Muppet Collection...</td>\n",
       "      <td>0</td>\n",
       "      <td>[{'id': 28, 'name': 'Action'}, {'id': 35, 'nam...</td>\n",
       "      <td>NaN</td>\n",
       "      <td>tt0117110</td>\n",
       "      <td>en</td>\n",
       "      <td>Muppet Treasure Island</td>\n",
       "      <td>After telling the story of Flint's last journe...</td>\n",
       "      <td>6.902423</td>\n",
       "      <td>...</td>\n",
       "      <td>2/16/96</td>\n",
       "      <td>100.0</td>\n",
       "      <td>[{'iso_639_1': 'en', 'name': 'English'}]</td>\n",
       "      <td>Released</td>\n",
       "      <td>Set sail for Muppet mayhem!</td>\n",
       "      <td>Muppet Treasure Island</td>\n",
       "      <td>[{'id': 2041, 'name': 'island'}, {'id': 4418, ...</td>\n",
       "      <td>[{'cast_id': 1, 'character': 'Long John Silver...</td>\n",
       "      <td>[{'credit_id': '52fe43c89251416c7501deb3', 'de...</td>\n",
       "      <td>34327391</td>\n",
       "    </tr>\n",
       "    <tr>\n",
       "      <th>11</th>\n",
       "      <td>12</td>\n",
       "      <td>[{'id': 48190, 'name': 'Revenge of the Nerds C...</td>\n",
       "      <td>0</td>\n",
       "      <td>[{'id': 35, 'name': 'Comedy'}]</td>\n",
       "      <td>NaN</td>\n",
       "      <td>tt0093857</td>\n",
       "      <td>en</td>\n",
       "      <td>Revenge of the Nerds II: Nerds in Paradise</td>\n",
       "      <td>The members of the Lambda Lambda Lambda frater...</td>\n",
       "      <td>10.543750</td>\n",
       "      <td>...</td>\n",
       "      <td>7/10/87</td>\n",
       "      <td>98.0</td>\n",
       "      <td>[{'iso_639_1': 'en', 'name': 'English'}]</td>\n",
       "      <td>Released</td>\n",
       "      <td>They're Back!</td>\n",
       "      <td>Revenge of the Nerds II: Nerds in Paradise</td>\n",
       "      <td>[{'id': 5801, 'name': 'nerd'}, {'id': 6876, 'n...</td>\n",
       "      <td>[{'cast_id': 2, 'character': 'Lewis Skolnick',...</td>\n",
       "      <td>[{'credit_id': '52fe46f49251416c750891e9', 'de...</td>\n",
       "      <td>22642033</td>\n",
       "    </tr>\n",
       "    <tr>\n",
       "      <th>17</th>\n",
       "      <td>18</td>\n",
       "      <td>NaN</td>\n",
       "      <td>0</td>\n",
       "      <td>[{'id': 18, 'name': 'Drama'}, {'id': 10749, 'n...</td>\n",
       "      <td>NaN</td>\n",
       "      <td>tt1700845</td>\n",
       "      <td>en</td>\n",
       "      <td>The Invisible Woman</td>\n",
       "      <td>In 1857, at the height of his fame and fortune...</td>\n",
       "      <td>4.183558</td>\n",
       "      <td>...</td>\n",
       "      <td>12/25/13</td>\n",
       "      <td>111.0</td>\n",
       "      <td>[{'iso_639_1': 'en', 'name': 'English'}]</td>\n",
       "      <td>Released</td>\n",
       "      <td>His greatest story was the one he could never ...</td>\n",
       "      <td>The Invisible Woman</td>\n",
       "      <td>[{'id': 5565, 'name': 'biography'}, {'id': 180...</td>\n",
       "      <td>[{'cast_id': 7, 'character': 'Charles Dickens'...</td>\n",
       "      <td>[{'credit_id': '53b94a260e0a2676c7009b37', 'de...</td>\n",
       "      <td>1234254</td>\n",
       "    </tr>\n",
       "  </tbody>\n",
       "</table>\n",
       "<p>5 rows × 23 columns</p>\n",
       "</div>"
      ],
      "text/plain": [
       "    id                              belongs_to_collection  budget  \\\n",
       "4    5                                                NaN       0   \n",
       "7    8                                                NaN       0   \n",
       "8    9  [{'id': 256377, 'name': 'The Muppet Collection...       0   \n",
       "11  12  [{'id': 48190, 'name': 'Revenge of the Nerds C...       0   \n",
       "17  18                                                NaN       0   \n",
       "\n",
       "                                               genres homepage    imdb_id  \\\n",
       "4   [{'id': 28, 'name': 'Action'}, {'id': 53, 'nam...      NaN  tt1380152   \n",
       "7                 [{'id': 99, 'name': 'Documentary'}]      NaN  tt0391024   \n",
       "8   [{'id': 28, 'name': 'Action'}, {'id': 35, 'nam...      NaN  tt0117110   \n",
       "11                     [{'id': 35, 'name': 'Comedy'}]      NaN  tt0093857   \n",
       "17  [{'id': 18, 'name': 'Drama'}, {'id': 10749, 'n...      NaN  tt1700845   \n",
       "\n",
       "   original_language                              original_title  \\\n",
       "4                 ko                                        마린보이   \n",
       "7                 en                                Control Room   \n",
       "8                 en                      Muppet Treasure Island   \n",
       "11                en  Revenge of the Nerds II: Nerds in Paradise   \n",
       "17                en                         The Invisible Woman   \n",
       "\n",
       "                                             overview  popularity  ...  \\\n",
       "4   Marine Boy is the story of a former national s...    1.148070  ...   \n",
       "7   A chronicle which provides a rare window into ...    1.949044  ...   \n",
       "8   After telling the story of Flint's last journe...    6.902423  ...   \n",
       "11  The members of the Lambda Lambda Lambda frater...   10.543750  ...   \n",
       "17  In 1857, at the height of his fame and fortune...    4.183558  ...   \n",
       "\n",
       "   release_date runtime                                   spoken_languages  \\\n",
       "4        2/5/09   118.0           [{'iso_639_1': 'ko', 'name': '한국어/조선말'}]   \n",
       "7       1/15/04    84.0  [{'iso_639_1': 'ar', 'name': 'العربية'}, {'iso...   \n",
       "8       2/16/96   100.0           [{'iso_639_1': 'en', 'name': 'English'}]   \n",
       "11      7/10/87    98.0           [{'iso_639_1': 'en', 'name': 'English'}]   \n",
       "17     12/25/13   111.0           [{'iso_639_1': 'en', 'name': 'English'}]   \n",
       "\n",
       "      status                                            tagline  \\\n",
       "4   Released                                                NaN   \n",
       "7   Released              Different channels. Different truths.   \n",
       "8   Released                        Set sail for Muppet mayhem!   \n",
       "11  Released                                      They're Back!   \n",
       "17  Released  His greatest story was the one he could never ...   \n",
       "\n",
       "                                         title  \\\n",
       "4                                   Marine Boy   \n",
       "7                                 Control Room   \n",
       "8                       Muppet Treasure Island   \n",
       "11  Revenge of the Nerds II: Nerds in Paradise   \n",
       "17                         The Invisible Woman   \n",
       "\n",
       "                                             Keywords  \\\n",
       "4                                                 NaN   \n",
       "7   [{'id': 917, 'name': 'journalism'}, {'id': 163...   \n",
       "8   [{'id': 2041, 'name': 'island'}, {'id': 4418, ...   \n",
       "11  [{'id': 5801, 'name': 'nerd'}, {'id': 6876, 'n...   \n",
       "17  [{'id': 5565, 'name': 'biography'}, {'id': 180...   \n",
       "\n",
       "                                                 cast  \\\n",
       "4   [{'cast_id': 3, 'character': 'Chun-soo', 'cred...   \n",
       "7   [{'cast_id': 2, 'character': 'Himself', 'credi...   \n",
       "8   [{'cast_id': 1, 'character': 'Long John Silver...   \n",
       "11  [{'cast_id': 2, 'character': 'Lewis Skolnick',...   \n",
       "17  [{'cast_id': 7, 'character': 'Charles Dickens'...   \n",
       "\n",
       "                                                 crew   revenue  \n",
       "4   [{'credit_id': '52fe464b9251416c75073b43', 'de...   3923970  \n",
       "7   [{'credit_id': '52fe47a69251416c750a0daf', 'de...   2586511  \n",
       "8   [{'credit_id': '52fe43c89251416c7501deb3', 'de...  34327391  \n",
       "11  [{'credit_id': '52fe46f49251416c750891e9', 'de...  22642033  \n",
       "17  [{'credit_id': '53b94a260e0a2676c7009b37', 'de...   1234254  \n",
       "\n",
       "[5 rows x 23 columns]"
      ]
     },
     "execution_count": 7,
     "metadata": {},
     "output_type": "execute_result"
    }
   ],
   "source": [
    "train[train['budget']==0].head()"
   ]
  },
  {
   "cell_type": "code",
   "execution_count": 8,
   "id": "886ce123-0bd8-4fdc-b61c-707b77aa8846",
   "metadata": {},
   "outputs": [],
   "source": [
    "# budget = 0 ????"
   ]
  },
  {
   "cell_type": "code",
   "execution_count": 9,
   "id": "9a0d603e-1fbf-43cc-b5b8-651865041d99",
   "metadata": {
    "tags": []
   },
   "outputs": [
    {
     "data": {
      "text/plain": [
       "0    /tQtWuwvMf0hCc2QR2tkolwl7c3c.jpg\n",
       "1    /w9Z7A0GHEhIp7etpj0vyKOeU1Wx.jpg\n",
       "2    /lIv1QinFqz4dlp5U4lQ6HaiskOZ.jpg\n",
       "3    /aTXRaPrWSinhcmCrcfJK17urp3F.jpg\n",
       "4    /m22s7zvkVFDU9ir56PiiqIEWFdT.jpg\n",
       "Name: poster_path, dtype: object"
      ]
     },
     "execution_count": 9,
     "metadata": {},
     "output_type": "execute_result"
    }
   ],
   "source": [
    "train['poster_path'].head()"
   ]
  },
  {
   "cell_type": "code",
   "execution_count": 10,
   "id": "23ab76ba-efe9-4a79-a999-3f2ff1ac16ef",
   "metadata": {
    "tags": []
   },
   "outputs": [
    {
     "data": {
      "text/plain": [
       "0    [{'name': 'Paramount Pictures', 'id': 4}, {'na...\n",
       "1          [{'name': 'Walt Disney Pictures', 'id': 2}]\n",
       "2    [{'name': 'Bold Films', 'id': 2266}, {'name': ...\n",
       "3                                                  NaN\n",
       "4                                                  NaN\n",
       "Name: production_companies, dtype: object"
      ]
     },
     "execution_count": 10,
     "metadata": {},
     "output_type": "execute_result"
    }
   ],
   "source": [
    "train['production_companies'].head()"
   ]
  },
  {
   "cell_type": "code",
   "execution_count": 11,
   "id": "052f754c-478e-4868-89b5-3a507723d283",
   "metadata": {
    "tags": []
   },
   "outputs": [
    {
     "data": {
      "text/plain": [
       "0    [{'iso_3166_1': 'US', 'name': 'United States o...\n",
       "1    [{'iso_3166_1': 'US', 'name': 'United States o...\n",
       "2    [{'iso_3166_1': 'US', 'name': 'United States o...\n",
       "3              [{'iso_3166_1': 'IN', 'name': 'India'}]\n",
       "4        [{'iso_3166_1': 'KR', 'name': 'South Korea'}]\n",
       "Name: production_countries, dtype: object"
      ]
     },
     "execution_count": 11,
     "metadata": {},
     "output_type": "execute_result"
    }
   ],
   "source": [
    "train['production_countries'].head()"
   ]
  },
  {
   "cell_type": "code",
   "execution_count": 12,
   "id": "01d38f75-0132-4ae7-aaac-b92cb17ff1d3",
   "metadata": {
    "tags": []
   },
   "outputs": [
    {
     "data": {
      "text/plain": [
       "0             [{'iso_639_1': 'en', 'name': 'English'}]\n",
       "1             [{'iso_639_1': 'en', 'name': 'English'}]\n",
       "2             [{'iso_639_1': 'en', 'name': 'English'}]\n",
       "3    [{'iso_639_1': 'en', 'name': 'English'}, {'iso...\n",
       "4             [{'iso_639_1': 'ko', 'name': '한국어/조선말'}]\n",
       "Name: spoken_languages, dtype: object"
      ]
     },
     "execution_count": 12,
     "metadata": {},
     "output_type": "execute_result"
    }
   ],
   "source": [
    "train['spoken_languages'].head()"
   ]
  },
  {
   "cell_type": "code",
   "execution_count": 13,
   "id": "82e97919-a710-4e77-b074-f84b4b0c1d9c",
   "metadata": {},
   "outputs": [],
   "source": [
    "# spoken languages and original languages the same?????"
   ]
  },
  {
   "cell_type": "code",
   "execution_count": 14,
   "id": "4eea4351-c97f-4ea9-aadf-f95a969fcab5",
   "metadata": {
    "tags": []
   },
   "outputs": [
    {
     "data": {
      "text/plain": [
       "0    Released\n",
       "1    Released\n",
       "2    Released\n",
       "3    Released\n",
       "4    Released\n",
       "Name: status, dtype: object"
      ]
     },
     "execution_count": 14,
     "metadata": {},
     "output_type": "execute_result"
    }
   ],
   "source": [
    "train['status'].head()"
   ]
  },
  {
   "cell_type": "code",
   "execution_count": 15,
   "id": "11b3493b-2c38-482d-875c-f52f0656d4d3",
   "metadata": {
    "tags": []
   },
   "outputs": [
    {
     "data": {
      "text/plain": [
       "status\n",
       "Released    2996\n",
       "Rumored        4\n",
       "Name: count, dtype: int64"
      ]
     },
     "execution_count": 15,
     "metadata": {},
     "output_type": "execute_result"
    }
   ],
   "source": [
    "train['status'].value_counts()"
   ]
  },
  {
   "cell_type": "code",
   "execution_count": 16,
   "id": "e9a813cc-0434-42e0-933b-94b74723933f",
   "metadata": {
    "tags": []
   },
   "outputs": [
    {
     "data": {
      "text/html": [
       "<div>\n",
       "<style scoped>\n",
       "    .dataframe tbody tr th:only-of-type {\n",
       "        vertical-align: middle;\n",
       "    }\n",
       "\n",
       "    .dataframe tbody tr th {\n",
       "        vertical-align: top;\n",
       "    }\n",
       "\n",
       "    .dataframe thead th {\n",
       "        text-align: right;\n",
       "    }\n",
       "</style>\n",
       "<table border=\"1\" class=\"dataframe\">\n",
       "  <thead>\n",
       "    <tr style=\"text-align: right;\">\n",
       "      <th></th>\n",
       "      <th>id</th>\n",
       "      <th>belongs_to_collection</th>\n",
       "      <th>budget</th>\n",
       "      <th>genres</th>\n",
       "      <th>homepage</th>\n",
       "      <th>imdb_id</th>\n",
       "      <th>original_language</th>\n",
       "      <th>original_title</th>\n",
       "      <th>overview</th>\n",
       "      <th>popularity</th>\n",
       "      <th>...</th>\n",
       "      <th>release_date</th>\n",
       "      <th>runtime</th>\n",
       "      <th>spoken_languages</th>\n",
       "      <th>status</th>\n",
       "      <th>tagline</th>\n",
       "      <th>title</th>\n",
       "      <th>Keywords</th>\n",
       "      <th>cast</th>\n",
       "      <th>crew</th>\n",
       "      <th>revenue</th>\n",
       "    </tr>\n",
       "  </thead>\n",
       "  <tbody>\n",
       "    <tr>\n",
       "      <th>609</th>\n",
       "      <td>610</td>\n",
       "      <td>[{'id': 144200, 'name': 'Swan Princess Series'...</td>\n",
       "      <td>0</td>\n",
       "      <td>[{'id': 14, 'name': 'Fantasy'}, {'id': 16, 'na...</td>\n",
       "      <td>NaN</td>\n",
       "      <td>tt0120254</td>\n",
       "      <td>en</td>\n",
       "      <td>The Swan Princess: Escape from Castle Mountain</td>\n",
       "      <td>The first wedding anniversary of Princess Odet...</td>\n",
       "      <td>5.121309</td>\n",
       "      <td>...</td>\n",
       "      <td>1/1/97</td>\n",
       "      <td>71.0</td>\n",
       "      <td>[{'iso_639_1': 'da', 'name': 'Dansk'}, {'iso_6...</td>\n",
       "      <td>Rumored</td>\n",
       "      <td>It Will Take All Her Magic to Rescue Her Friends!</td>\n",
       "      <td>The Swan Princess: Escape from Castle Mountain</td>\n",
       "      <td>[{'id': 3071, 'name': 'prince'}, {'id': 4456, ...</td>\n",
       "      <td>[{'cast_id': 2, 'character': 'Odette (voice)',...</td>\n",
       "      <td>[{'credit_id': '52fe488bc3a36847f816cfd3', 'de...</td>\n",
       "      <td>273644</td>\n",
       "    </tr>\n",
       "    <tr>\n",
       "      <th>1007</th>\n",
       "      <td>1008</td>\n",
       "      <td>NaN</td>\n",
       "      <td>0</td>\n",
       "      <td>[{'id': 35, 'name': 'Comedy'}]</td>\n",
       "      <td>NaN</td>\n",
       "      <td>tt1860180</td>\n",
       "      <td>en</td>\n",
       "      <td>Billy Gardell: Halftime</td>\n",
       "      <td>Billy Gardell, the star of CBS' hit comedy \"Mi...</td>\n",
       "      <td>0.007877</td>\n",
       "      <td>...</td>\n",
       "      <td>2/5/11</td>\n",
       "      <td>60.0</td>\n",
       "      <td>[{'iso_639_1': 'en', 'name': 'English'}]</td>\n",
       "      <td>Rumored</td>\n",
       "      <td>NaN</td>\n",
       "      <td>Billy Gardell: Halftime</td>\n",
       "      <td>NaN</td>\n",
       "      <td>[{'cast_id': 9, 'character': 'Himself', 'credi...</td>\n",
       "      <td>[{'credit_id': '52fe4be1c3a368484e19d265', 'de...</td>\n",
       "      <td>60</td>\n",
       "    </tr>\n",
       "    <tr>\n",
       "      <th>1216</th>\n",
       "      <td>1217</td>\n",
       "      <td>NaN</td>\n",
       "      <td>0</td>\n",
       "      <td>[{'id': 18, 'name': 'Drama'}, {'id': 53, 'name...</td>\n",
       "      <td>NaN</td>\n",
       "      <td>tt0091024</td>\n",
       "      <td>en</td>\n",
       "      <td>Extremities</td>\n",
       "      <td>A woman escapes from the man who is about to r...</td>\n",
       "      <td>10.273979</td>\n",
       "      <td>...</td>\n",
       "      <td>8/22/86</td>\n",
       "      <td>89.0</td>\n",
       "      <td>[{'iso_639_1': 'en', 'name': 'English'}]</td>\n",
       "      <td>Rumored</td>\n",
       "      <td>When fear made her a victim, she turned fear i...</td>\n",
       "      <td>Extremities</td>\n",
       "      <td>[{'id': 2483, 'name': 'nudity'}, {'id': 2539, ...</td>\n",
       "      <td>[{'cast_id': 1, 'character': 'Marjorie', 'cred...</td>\n",
       "      <td>[{'credit_id': '582cca1c925141780b00259f', 'de...</td>\n",
       "      <td>13418091</td>\n",
       "    </tr>\n",
       "    <tr>\n",
       "      <th>1618</th>\n",
       "      <td>1619</td>\n",
       "      <td>NaN</td>\n",
       "      <td>891000</td>\n",
       "      <td>[{'id': 99, 'name': 'Documentary'}]</td>\n",
       "      <td>NaN</td>\n",
       "      <td>tt0145394</td>\n",
       "      <td>en</td>\n",
       "      <td>A Place Called Chiapas</td>\n",
       "      <td>On January 1, 1994, the Zapatista National Lib...</td>\n",
       "      <td>0.179246</td>\n",
       "      <td>...</td>\n",
       "      <td>2/20/98</td>\n",
       "      <td>89.0</td>\n",
       "      <td>[{'iso_639_1': 'en', 'name': 'English'}, {'iso...</td>\n",
       "      <td>Rumored</td>\n",
       "      <td>Inside the world's first postmodern revolution</td>\n",
       "      <td>A Place Called Chiapas</td>\n",
       "      <td>[{'id': 187056, 'name': 'woman director'}]</td>\n",
       "      <td>[{'cast_id': 1, 'character': 'Himself', 'credi...</td>\n",
       "      <td>[{'credit_id': '57b4f7619251417287000dfc', 'de...</td>\n",
       "      <td>229000</td>\n",
       "    </tr>\n",
       "  </tbody>\n",
       "</table>\n",
       "<p>4 rows × 23 columns</p>\n",
       "</div>"
      ],
      "text/plain": [
       "        id                              belongs_to_collection  budget  \\\n",
       "609    610  [{'id': 144200, 'name': 'Swan Princess Series'...       0   \n",
       "1007  1008                                                NaN       0   \n",
       "1216  1217                                                NaN       0   \n",
       "1618  1619                                                NaN  891000   \n",
       "\n",
       "                                                 genres homepage    imdb_id  \\\n",
       "609   [{'id': 14, 'name': 'Fantasy'}, {'id': 16, 'na...      NaN  tt0120254   \n",
       "1007                     [{'id': 35, 'name': 'Comedy'}]      NaN  tt1860180   \n",
       "1216  [{'id': 18, 'name': 'Drama'}, {'id': 53, 'name...      NaN  tt0091024   \n",
       "1618                [{'id': 99, 'name': 'Documentary'}]      NaN  tt0145394   \n",
       "\n",
       "     original_language                                  original_title  \\\n",
       "609                 en  The Swan Princess: Escape from Castle Mountain   \n",
       "1007                en                         Billy Gardell: Halftime   \n",
       "1216                en                                     Extremities   \n",
       "1618                en                          A Place Called Chiapas   \n",
       "\n",
       "                                               overview  popularity  ...  \\\n",
       "609   The first wedding anniversary of Princess Odet...    5.121309  ...   \n",
       "1007  Billy Gardell, the star of CBS' hit comedy \"Mi...    0.007877  ...   \n",
       "1216  A woman escapes from the man who is about to r...   10.273979  ...   \n",
       "1618  On January 1, 1994, the Zapatista National Lib...    0.179246  ...   \n",
       "\n",
       "     release_date runtime                                   spoken_languages  \\\n",
       "609        1/1/97    71.0  [{'iso_639_1': 'da', 'name': 'Dansk'}, {'iso_6...   \n",
       "1007       2/5/11    60.0           [{'iso_639_1': 'en', 'name': 'English'}]   \n",
       "1216      8/22/86    89.0           [{'iso_639_1': 'en', 'name': 'English'}]   \n",
       "1618      2/20/98    89.0  [{'iso_639_1': 'en', 'name': 'English'}, {'iso...   \n",
       "\n",
       "       status                                            tagline  \\\n",
       "609   Rumored  It Will Take All Her Magic to Rescue Her Friends!   \n",
       "1007  Rumored                                                NaN   \n",
       "1216  Rumored  When fear made her a victim, she turned fear i...   \n",
       "1618  Rumored     Inside the world's first postmodern revolution   \n",
       "\n",
       "                                               title  \\\n",
       "609   The Swan Princess: Escape from Castle Mountain   \n",
       "1007                         Billy Gardell: Halftime   \n",
       "1216                                     Extremities   \n",
       "1618                          A Place Called Chiapas   \n",
       "\n",
       "                                               Keywords  \\\n",
       "609   [{'id': 3071, 'name': 'prince'}, {'id': 4456, ...   \n",
       "1007                                                NaN   \n",
       "1216  [{'id': 2483, 'name': 'nudity'}, {'id': 2539, ...   \n",
       "1618         [{'id': 187056, 'name': 'woman director'}]   \n",
       "\n",
       "                                                   cast  \\\n",
       "609   [{'cast_id': 2, 'character': 'Odette (voice)',...   \n",
       "1007  [{'cast_id': 9, 'character': 'Himself', 'credi...   \n",
       "1216  [{'cast_id': 1, 'character': 'Marjorie', 'cred...   \n",
       "1618  [{'cast_id': 1, 'character': 'Himself', 'credi...   \n",
       "\n",
       "                                                   crew   revenue  \n",
       "609   [{'credit_id': '52fe488bc3a36847f816cfd3', 'de...    273644  \n",
       "1007  [{'credit_id': '52fe4be1c3a368484e19d265', 'de...        60  \n",
       "1216  [{'credit_id': '582cca1c925141780b00259f', 'de...  13418091  \n",
       "1618  [{'credit_id': '57b4f7619251417287000dfc', 'de...    229000  \n",
       "\n",
       "[4 rows x 23 columns]"
      ]
     },
     "execution_count": 16,
     "metadata": {},
     "output_type": "execute_result"
    }
   ],
   "source": [
    "train[train['status']=='Rumored']"
   ]
  },
  {
   "cell_type": "code",
   "execution_count": 17,
   "id": "dad8b4b7-b54f-4c8f-af70-9e9732f3c2f6",
   "metadata": {
    "tags": []
   },
   "outputs": [
    {
     "data": {
      "text/plain": [
       "0    The Laws of Space and Time are About to be Vio...\n",
       "1    It can take a lifetime to find true love; she'...\n",
       "2      The road to greatness can take you to the edge.\n",
       "3                                                  NaN\n",
       "4                                                  NaN\n",
       "Name: tagline, dtype: object"
      ]
     },
     "execution_count": 17,
     "metadata": {},
     "output_type": "execute_result"
    }
   ],
   "source": [
    "train['tagline'].head()"
   ]
  },
  {
   "cell_type": "code",
   "execution_count": 18,
   "id": "1cdf2f36-1406-49fb-bd8c-18e94dae27aa",
   "metadata": {
    "tags": []
   },
   "outputs": [
    {
     "data": {
      "text/plain": [
       "0                      Hot Tub Time Machine 2\n",
       "1    The Princess Diaries 2: Royal Engagement\n",
       "2                                    Whiplash\n",
       "3                                     Kahaani\n",
       "4                                  Marine Boy\n",
       "Name: title, dtype: object"
      ]
     },
     "execution_count": 18,
     "metadata": {},
     "output_type": "execute_result"
    }
   ],
   "source": [
    "train['title'].head()"
   ]
  },
  {
   "cell_type": "code",
   "execution_count": 19,
   "id": "c13328ce-d6ea-4844-a879-cee553171e43",
   "metadata": {
    "tags": []
   },
   "outputs": [
    {
     "data": {
      "text/plain": [
       "0    [{'id': 4379, 'name': 'time travel'}, {'id': 9...\n",
       "1    [{'id': 2505, 'name': 'coronation'}, {'id': 42...\n",
       "2    [{'id': 1416, 'name': 'jazz'}, {'id': 1523, 'n...\n",
       "3    [{'id': 10092, 'name': 'mystery'}, {'id': 1054...\n",
       "4                                                  NaN\n",
       "Name: Keywords, dtype: object"
      ]
     },
     "execution_count": 19,
     "metadata": {},
     "output_type": "execute_result"
    }
   ],
   "source": [
    "train['Keywords'].head()"
   ]
  },
  {
   "cell_type": "code",
   "execution_count": 20,
   "id": "30c945c3-7dfc-496c-ad78-52b71dd11ed8",
   "metadata": {
    "tags": []
   },
   "outputs": [
    {
     "data": {
      "text/plain": [
       "0    [{'cast_id': 4, 'character': 'Lou', 'credit_id...\n",
       "1    [{'cast_id': 1, 'character': 'Mia Thermopolis'...\n",
       "2    [{'cast_id': 5, 'character': 'Andrew Neimann',...\n",
       "3    [{'cast_id': 1, 'character': 'Vidya Bagchi', '...\n",
       "4    [{'cast_id': 3, 'character': 'Chun-soo', 'cred...\n",
       "Name: cast, dtype: object"
      ]
     },
     "execution_count": 20,
     "metadata": {},
     "output_type": "execute_result"
    }
   ],
   "source": [
    "train['cast'].head()"
   ]
  },
  {
   "cell_type": "code",
   "execution_count": 21,
   "id": "e3a5622c-7d59-4946-b270-f3d3f2adc844",
   "metadata": {
    "tags": []
   },
   "outputs": [
    {
     "data": {
      "text/plain": [
       "0    [{'credit_id': '59ac067c92514107af02c8c8', 'de...\n",
       "1    [{'credit_id': '52fe43fe9251416c7502563d', 'de...\n",
       "2    [{'credit_id': '54d5356ec3a3683ba0000039', 'de...\n",
       "3    [{'credit_id': '52fe48779251416c9108d6eb', 'de...\n",
       "4    [{'credit_id': '52fe464b9251416c75073b43', 'de...\n",
       "Name: crew, dtype: object"
      ]
     },
     "execution_count": 21,
     "metadata": {},
     "output_type": "execute_result"
    }
   ],
   "source": [
    "train['crew'].head()"
   ]
  },
  {
   "cell_type": "code",
   "execution_count": 22,
   "id": "a255a269-13b6-452d-a764-118861b1d931",
   "metadata": {},
   "outputs": [],
   "source": [
    "# drop belongs_to_collection, homepage, imdb_id, original_language,  original_title ,\n",
    "# overview, poster_path, tagline, title, Keywords, cast, crew"
   ]
  },
  {
   "cell_type": "code",
   "execution_count": 23,
   "id": "70eb2a8a-f25e-4a5a-b379-137bf7c902a9",
   "metadata": {
    "tags": []
   },
   "outputs": [
    {
     "name": "stdout",
     "output_type": "stream",
     "text": [
      "<class 'pandas.core.frame.DataFrame'>\n",
      "RangeIndex: 4398 entries, 0 to 4397\n",
      "Data columns (total 22 columns):\n",
      " #   Column                 Non-Null Count  Dtype  \n",
      "---  ------                 --------------  -----  \n",
      " 0   id                     4398 non-null   int64  \n",
      " 1   belongs_to_collection  877 non-null    object \n",
      " 2   budget                 4398 non-null   int64  \n",
      " 3   genres                 4382 non-null   object \n",
      " 4   homepage               1420 non-null   object \n",
      " 5   imdb_id                4398 non-null   object \n",
      " 6   original_language      4398 non-null   object \n",
      " 7   original_title         4398 non-null   object \n",
      " 8   overview               4384 non-null   object \n",
      " 9   popularity             4398 non-null   float64\n",
      " 10  poster_path            4397 non-null   object \n",
      " 11  production_companies   4140 non-null   object \n",
      " 12  production_countries   4296 non-null   object \n",
      " 13  release_date           4397 non-null   object \n",
      " 14  runtime                4394 non-null   float64\n",
      " 15  spoken_languages       4356 non-null   object \n",
      " 16  status                 4396 non-null   object \n",
      " 17  tagline                3535 non-null   object \n",
      " 18  title                  4395 non-null   object \n",
      " 19  Keywords               4005 non-null   object \n",
      " 20  cast                   4385 non-null   object \n",
      " 21  crew                   4376 non-null   object \n",
      "dtypes: float64(2), int64(2), object(18)\n",
      "memory usage: 756.0+ KB\n"
     ]
    }
   ],
   "source": [
    "test.info()"
   ]
  },
  {
   "cell_type": "code",
   "execution_count": 24,
   "id": "10b7ff71-288e-4dfb-9280-0444ae0a274f",
   "metadata": {
    "tags": []
   },
   "outputs": [],
   "source": [
    "#Dropping columns with a lot of missing values and columns won't be used in analysis\n",
    "\n",
    "train = train.drop(columns = ['belongs_to_collection','homepage', 'imdb_id',\n",
    "                              'spoken_languages','original_title','overview',\n",
    "                              'poster_path','status','tagline', 'title', \n",
    "                              'Keywords','cast', 'crew'])"
   ]
  },
  {
   "cell_type": "code",
   "execution_count": 25,
   "id": "38cb6e8d-622e-4395-852b-9fccf6aa31ea",
   "metadata": {
    "tags": []
   },
   "outputs": [],
   "source": [
    "test = test.drop(columns = ['belongs_to_collection','homepage', 'imdb_id',\n",
    "                              'spoken_languages','original_title','overview',\n",
    "                              'poster_path','status','tagline', 'title', \n",
    "                              'Keywords','cast', 'crew'])"
   ]
  },
  {
   "cell_type": "code",
   "execution_count": 26,
   "id": "c4c8fbed-08a7-4faf-8ba5-5a66e2c7363a",
   "metadata": {
    "tags": []
   },
   "outputs": [
    {
     "name": "stdout",
     "output_type": "stream",
     "text": [
      "<class 'pandas.core.frame.DataFrame'>\n",
      "RangeIndex: 3000 entries, 0 to 2999\n",
      "Data columns (total 10 columns):\n",
      " #   Column                Non-Null Count  Dtype  \n",
      "---  ------                --------------  -----  \n",
      " 0   id                    3000 non-null   int64  \n",
      " 1   budget                3000 non-null   int64  \n",
      " 2   genres                2993 non-null   object \n",
      " 3   original_language     3000 non-null   object \n",
      " 4   popularity            3000 non-null   float64\n",
      " 5   production_companies  2844 non-null   object \n",
      " 6   production_countries  2945 non-null   object \n",
      " 7   release_date          3000 non-null   object \n",
      " 8   runtime               2998 non-null   float64\n",
      " 9   revenue               3000 non-null   int64  \n",
      "dtypes: float64(2), int64(3), object(5)\n",
      "memory usage: 234.5+ KB\n"
     ]
    }
   ],
   "source": [
    "train.info()"
   ]
  },
  {
   "cell_type": "code",
   "execution_count": 27,
   "id": "18e7cb8d-80f6-4dfe-93df-d0881d00fe47",
   "metadata": {
    "tags": []
   },
   "outputs": [
    {
     "name": "stdout",
     "output_type": "stream",
     "text": [
      "<class 'pandas.core.frame.DataFrame'>\n",
      "RangeIndex: 4398 entries, 0 to 4397\n",
      "Data columns (total 9 columns):\n",
      " #   Column                Non-Null Count  Dtype  \n",
      "---  ------                --------------  -----  \n",
      " 0   id                    4398 non-null   int64  \n",
      " 1   budget                4398 non-null   int64  \n",
      " 2   genres                4382 non-null   object \n",
      " 3   original_language     4398 non-null   object \n",
      " 4   popularity            4398 non-null   float64\n",
      " 5   production_companies  4140 non-null   object \n",
      " 6   production_countries  4296 non-null   object \n",
      " 7   release_date          4397 non-null   object \n",
      " 8   runtime               4394 non-null   float64\n",
      "dtypes: float64(2), int64(2), object(5)\n",
      "memory usage: 309.4+ KB\n"
     ]
    }
   ],
   "source": [
    "test.info()"
   ]
  },
  {
   "cell_type": "code",
   "execution_count": 28,
   "id": "f23d688f-46f2-4f98-839a-ef954b0c3979",
   "metadata": {
    "tags": []
   },
   "outputs": [
    {
     "data": {
      "text/plain": [
       "pandas.core.series.Series"
      ]
     },
     "execution_count": 28,
     "metadata": {},
     "output_type": "execute_result"
    }
   ],
   "source": [
    "type(train['genres'])"
   ]
  },
  {
   "cell_type": "code",
   "execution_count": 29,
   "id": "a28f023d-e095-4495-ab41-880cc25524be",
   "metadata": {
    "tags": []
   },
   "outputs": [],
   "source": [
    "# train['genres'] = train['genres'].str.replace(\" \", '').astype(object)"
   ]
  },
  {
   "cell_type": "code",
   "execution_count": 30,
   "id": "bb9d60c9-b473-4c79-8408-30ed6c87a17b",
   "metadata": {
    "tags": []
   },
   "outputs": [],
   "source": [
    "big_dict = {'genres': 'name', \n",
    "            'production_countries': 'name',\n",
    "            'production_companies': 'name'}"
   ]
  },
  {
   "cell_type": "code",
   "execution_count": 31,
   "id": "0f54b557-9fa1-4e7f-9f9b-4c32991f4ee5",
   "metadata": {
    "tags": []
   },
   "outputs": [],
   "source": [
    "def feature_extractor(l, key_we_want):\n",
    "    # Input: l is the list we want to extract from.\n",
    "    #        key_we_want is the key we want lol\n",
    "    \n",
    "    return [d[key_we_want] for d in l]"
   ]
  },
  {
   "cell_type": "code",
   "execution_count": 32,
   "id": "b238c02d-8d69-47bf-9581-832e624d8c7a",
   "metadata": {
    "tags": []
   },
   "outputs": [],
   "source": [
    "for col_name, info_we_want in big_dict.items():\n",
    "    \n",
    "    \n",
    "    \n",
    "    train[col_name] = train[col_name][train[col_name].notna()].apply(ast.literal_eval) \n",
    "    test[col_name] = test[col_name][test[col_name].notna()].apply(ast.literal_eval) \n",
    "    \n",
    "    train[col_name] = train[col_name][train[col_name].notna()].apply(lambda x: feature_extractor(x, info_we_want))\n",
    "    test[col_name] = test[col_name][test[col_name].notna()].apply(lambda x: feature_extractor(x, info_we_want))"
   ]
  },
  {
   "cell_type": "code",
   "execution_count": 33,
   "id": "ee52575c-0530-41ae-a852-e824e6296d2e",
   "metadata": {
    "tags": []
   },
   "outputs": [],
   "source": [
    "train['release_date'] = train['release_date'].apply(lambda x: int(datetime.strptime(x, \"%m/%d/%y\").timestamp()))"
   ]
  },
  {
   "cell_type": "code",
   "execution_count": 34,
   "id": "55817f35-abd8-4bff-b137-89448d5b6b21",
   "metadata": {
    "tags": []
   },
   "outputs": [
    {
     "data": {
      "text/plain": [
       "dtype('int64')"
      ]
     },
     "execution_count": 34,
     "metadata": {},
     "output_type": "execute_result"
    }
   ],
   "source": [
    "train['release_date'].dtype"
   ]
  },
  {
   "cell_type": "code",
   "execution_count": 35,
   "id": "a518fb2f-5260-42fd-b7e8-d6dd20a2b39e",
   "metadata": {
    "tags": []
   },
   "outputs": [],
   "source": [
    "test['release_date'] = test['release_date'][test['release_date'].notna()].apply(lambda x: int(datetime.strptime(x, \"%m/%d/%y\").timestamp()))"
   ]
  },
  {
   "cell_type": "code",
   "execution_count": 36,
   "id": "3ee49a03-95bf-4d48-a237-e2e4b667d4fb",
   "metadata": {
    "tags": []
   },
   "outputs": [
    {
     "data": {
      "text/plain": [
       "0    1424412000\n",
       "1    1091768400\n",
       "2    1412917200\n",
       "3    1331272800\n",
       "4    1233813600\n",
       "Name: release_date, dtype: int64"
      ]
     },
     "execution_count": 36,
     "metadata": {},
     "output_type": "execute_result"
    }
   ],
   "source": [
    "train['release_date'].head()"
   ]
  },
  {
   "cell_type": "code",
   "execution_count": 37,
   "id": "d6b04955-d254-42ae-860b-67ac61017b6d",
   "metadata": {
    "tags": []
   },
   "outputs": [
    {
     "data": {
      "text/html": [
       "<div>\n",
       "<style scoped>\n",
       "    .dataframe tbody tr th:only-of-type {\n",
       "        vertical-align: middle;\n",
       "    }\n",
       "\n",
       "    .dataframe tbody tr th {\n",
       "        vertical-align: top;\n",
       "    }\n",
       "\n",
       "    .dataframe thead th {\n",
       "        text-align: right;\n",
       "    }\n",
       "</style>\n",
       "<table border=\"1\" class=\"dataframe\">\n",
       "  <thead>\n",
       "    <tr style=\"text-align: right;\">\n",
       "      <th></th>\n",
       "      <th>id</th>\n",
       "      <th>budget</th>\n",
       "      <th>genres</th>\n",
       "      <th>original_language</th>\n",
       "      <th>popularity</th>\n",
       "      <th>production_companies</th>\n",
       "      <th>production_countries</th>\n",
       "      <th>release_date</th>\n",
       "      <th>runtime</th>\n",
       "      <th>revenue</th>\n",
       "    </tr>\n",
       "  </thead>\n",
       "  <tbody>\n",
       "    <tr>\n",
       "      <th>0</th>\n",
       "      <td>1</td>\n",
       "      <td>14000000</td>\n",
       "      <td>[Comedy]</td>\n",
       "      <td>en</td>\n",
       "      <td>6.575393</td>\n",
       "      <td>[Paramount Pictures, United Artists, Metro-Gol...</td>\n",
       "      <td>[United States of America]</td>\n",
       "      <td>1424412000</td>\n",
       "      <td>93.0</td>\n",
       "      <td>12314651</td>\n",
       "    </tr>\n",
       "    <tr>\n",
       "      <th>1</th>\n",
       "      <td>2</td>\n",
       "      <td>40000000</td>\n",
       "      <td>[Comedy, Drama, Family, Romance]</td>\n",
       "      <td>en</td>\n",
       "      <td>8.248895</td>\n",
       "      <td>[Walt Disney Pictures]</td>\n",
       "      <td>[United States of America]</td>\n",
       "      <td>1091768400</td>\n",
       "      <td>113.0</td>\n",
       "      <td>95149435</td>\n",
       "    </tr>\n",
       "    <tr>\n",
       "      <th>2</th>\n",
       "      <td>3</td>\n",
       "      <td>3300000</td>\n",
       "      <td>[Drama]</td>\n",
       "      <td>en</td>\n",
       "      <td>64.299990</td>\n",
       "      <td>[Bold Films, Blumhouse Productions, Right of W...</td>\n",
       "      <td>[United States of America]</td>\n",
       "      <td>1412917200</td>\n",
       "      <td>105.0</td>\n",
       "      <td>13092000</td>\n",
       "    </tr>\n",
       "    <tr>\n",
       "      <th>3</th>\n",
       "      <td>4</td>\n",
       "      <td>1200000</td>\n",
       "      <td>[Thriller, Drama]</td>\n",
       "      <td>hi</td>\n",
       "      <td>3.174936</td>\n",
       "      <td>NaN</td>\n",
       "      <td>[India]</td>\n",
       "      <td>1331272800</td>\n",
       "      <td>122.0</td>\n",
       "      <td>16000000</td>\n",
       "    </tr>\n",
       "    <tr>\n",
       "      <th>4</th>\n",
       "      <td>5</td>\n",
       "      <td>0</td>\n",
       "      <td>[Action, Thriller]</td>\n",
       "      <td>ko</td>\n",
       "      <td>1.148070</td>\n",
       "      <td>NaN</td>\n",
       "      <td>[South Korea]</td>\n",
       "      <td>1233813600</td>\n",
       "      <td>118.0</td>\n",
       "      <td>3923970</td>\n",
       "    </tr>\n",
       "  </tbody>\n",
       "</table>\n",
       "</div>"
      ],
      "text/plain": [
       "   id    budget                            genres original_language  \\\n",
       "0   1  14000000                          [Comedy]                en   \n",
       "1   2  40000000  [Comedy, Drama, Family, Romance]                en   \n",
       "2   3   3300000                           [Drama]                en   \n",
       "3   4   1200000                 [Thriller, Drama]                hi   \n",
       "4   5         0                [Action, Thriller]                ko   \n",
       "\n",
       "   popularity                               production_companies  \\\n",
       "0    6.575393  [Paramount Pictures, United Artists, Metro-Gol...   \n",
       "1    8.248895                             [Walt Disney Pictures]   \n",
       "2   64.299990  [Bold Films, Blumhouse Productions, Right of W...   \n",
       "3    3.174936                                                NaN   \n",
       "4    1.148070                                                NaN   \n",
       "\n",
       "         production_countries  release_date  runtime   revenue  \n",
       "0  [United States of America]    1424412000     93.0  12314651  \n",
       "1  [United States of America]    1091768400    113.0  95149435  \n",
       "2  [United States of America]    1412917200    105.0  13092000  \n",
       "3                     [India]    1331272800    122.0  16000000  \n",
       "4               [South Korea]    1233813600    118.0   3923970  "
      ]
     },
     "execution_count": 37,
     "metadata": {},
     "output_type": "execute_result"
    }
   ],
   "source": [
    "train.head()"
   ]
  },
  {
   "cell_type": "code",
   "execution_count": 38,
   "id": "f21978b7-9a70-4c52-84a2-e854fbb5d6d9",
   "metadata": {
    "tags": []
   },
   "outputs": [
    {
     "name": "stdout",
     "output_type": "stream",
     "text": [
      "<class 'pandas.core.frame.DataFrame'>\n",
      "RangeIndex: 3000 entries, 0 to 2999\n",
      "Data columns (total 10 columns):\n",
      " #   Column                Non-Null Count  Dtype  \n",
      "---  ------                --------------  -----  \n",
      " 0   id                    3000 non-null   int64  \n",
      " 1   budget                3000 non-null   int64  \n",
      " 2   genres                2993 non-null   object \n",
      " 3   original_language     3000 non-null   object \n",
      " 4   popularity            3000 non-null   float64\n",
      " 5   production_companies  2844 non-null   object \n",
      " 6   production_countries  2945 non-null   object \n",
      " 7   release_date          3000 non-null   int64  \n",
      " 8   runtime               2998 non-null   float64\n",
      " 9   revenue               3000 non-null   int64  \n",
      "dtypes: float64(2), int64(4), object(4)\n",
      "memory usage: 234.5+ KB\n"
     ]
    }
   ],
   "source": [
    "train.info()"
   ]
  },
  {
   "cell_type": "code",
   "execution_count": 39,
   "id": "b02911e1-f22d-49fa-a079-80af3a7691c7",
   "metadata": {
    "tags": []
   },
   "outputs": [
    {
     "data": {
      "text/html": [
       "<div>\n",
       "<style scoped>\n",
       "    .dataframe tbody tr th:only-of-type {\n",
       "        vertical-align: middle;\n",
       "    }\n",
       "\n",
       "    .dataframe tbody tr th {\n",
       "        vertical-align: top;\n",
       "    }\n",
       "\n",
       "    .dataframe thead th {\n",
       "        text-align: right;\n",
       "    }\n",
       "</style>\n",
       "<table border=\"1\" class=\"dataframe\">\n",
       "  <thead>\n",
       "    <tr style=\"text-align: right;\">\n",
       "      <th></th>\n",
       "      <th>id</th>\n",
       "      <th>budget</th>\n",
       "      <th>genres</th>\n",
       "      <th>original_language</th>\n",
       "      <th>popularity</th>\n",
       "      <th>production_companies</th>\n",
       "      <th>production_countries</th>\n",
       "      <th>release_date</th>\n",
       "      <th>runtime</th>\n",
       "    </tr>\n",
       "  </thead>\n",
       "  <tbody>\n",
       "    <tr>\n",
       "      <th>0</th>\n",
       "      <td>3001</td>\n",
       "      <td>0</td>\n",
       "      <td>[Adventure, Animation, Family, Fantasy]</td>\n",
       "      <td>ja</td>\n",
       "      <td>3.851534</td>\n",
       "      <td>NaN</td>\n",
       "      <td>[Japan, United States of America]</td>\n",
       "      <td>1.184389e+09</td>\n",
       "      <td>90.0</td>\n",
       "    </tr>\n",
       "    <tr>\n",
       "      <th>1</th>\n",
       "      <td>3002</td>\n",
       "      <td>88000</td>\n",
       "      <td>[Horror, Science Fiction]</td>\n",
       "      <td>en</td>\n",
       "      <td>3.559789</td>\n",
       "      <td>[Woolner Brothers Pictures Inc.]</td>\n",
       "      <td>[United States of America]</td>\n",
       "      <td>2.789010e+09</td>\n",
       "      <td>65.0</td>\n",
       "    </tr>\n",
       "    <tr>\n",
       "      <th>2</th>\n",
       "      <td>3003</td>\n",
       "      <td>0</td>\n",
       "      <td>[Comedy, Romance]</td>\n",
       "      <td>en</td>\n",
       "      <td>8.085194</td>\n",
       "      <td>[Warner Bros., Outlaw Productions (I), Miramax]</td>\n",
       "      <td>[United States of America]</td>\n",
       "      <td>8.643636e+08</td>\n",
       "      <td>100.0</td>\n",
       "    </tr>\n",
       "    <tr>\n",
       "      <th>3</th>\n",
       "      <td>3004</td>\n",
       "      <td>6800000</td>\n",
       "      <td>[Drama, War, Mystery]</td>\n",
       "      <td>fr</td>\n",
       "      <td>8.596012</td>\n",
       "      <td>[TS Productions, Micro scope, Phi Group]</td>\n",
       "      <td>[Canada, France]</td>\n",
       "      <td>1.283576e+09</td>\n",
       "      <td>130.0</td>\n",
       "    </tr>\n",
       "    <tr>\n",
       "      <th>4</th>\n",
       "      <td>3005</td>\n",
       "      <td>2000000</td>\n",
       "      <td>[History, Documentary]</td>\n",
       "      <td>en</td>\n",
       "      <td>3.217680</td>\n",
       "      <td>NaN</td>\n",
       "      <td>[United States of America]</td>\n",
       "      <td>1.108102e+09</td>\n",
       "      <td>92.0</td>\n",
       "    </tr>\n",
       "  </tbody>\n",
       "</table>\n",
       "</div>"
      ],
      "text/plain": [
       "     id   budget                                   genres original_language  \\\n",
       "0  3001        0  [Adventure, Animation, Family, Fantasy]                ja   \n",
       "1  3002    88000                [Horror, Science Fiction]                en   \n",
       "2  3003        0                        [Comedy, Romance]                en   \n",
       "3  3004  6800000                    [Drama, War, Mystery]                fr   \n",
       "4  3005  2000000                   [History, Documentary]                en   \n",
       "\n",
       "   popularity                             production_companies  \\\n",
       "0    3.851534                                              NaN   \n",
       "1    3.559789                 [Woolner Brothers Pictures Inc.]   \n",
       "2    8.085194  [Warner Bros., Outlaw Productions (I), Miramax]   \n",
       "3    8.596012         [TS Productions, Micro scope, Phi Group]   \n",
       "4    3.217680                                              NaN   \n",
       "\n",
       "                production_countries  release_date  runtime  \n",
       "0  [Japan, United States of America]  1.184389e+09     90.0  \n",
       "1         [United States of America]  2.789010e+09     65.0  \n",
       "2         [United States of America]  8.643636e+08    100.0  \n",
       "3                   [Canada, France]  1.283576e+09    130.0  \n",
       "4         [United States of America]  1.108102e+09     92.0  "
      ]
     },
     "execution_count": 39,
     "metadata": {},
     "output_type": "execute_result"
    }
   ],
   "source": [
    "test.head()"
   ]
  },
  {
   "cell_type": "code",
   "execution_count": 40,
   "id": "57cc6700-b331-42c5-8ac6-8415dca96a8b",
   "metadata": {
    "tags": []
   },
   "outputs": [
    {
     "name": "stdout",
     "output_type": "stream",
     "text": [
      "<class 'pandas.core.frame.DataFrame'>\n",
      "RangeIndex: 4398 entries, 0 to 4397\n",
      "Data columns (total 9 columns):\n",
      " #   Column                Non-Null Count  Dtype  \n",
      "---  ------                --------------  -----  \n",
      " 0   id                    4398 non-null   int64  \n",
      " 1   budget                4398 non-null   int64  \n",
      " 2   genres                4382 non-null   object \n",
      " 3   original_language     4398 non-null   object \n",
      " 4   popularity            4398 non-null   float64\n",
      " 5   production_companies  4140 non-null   object \n",
      " 6   production_countries  4296 non-null   object \n",
      " 7   release_date          4397 non-null   float64\n",
      " 8   runtime               4394 non-null   float64\n",
      "dtypes: float64(3), int64(2), object(4)\n",
      "memory usage: 309.4+ KB\n"
     ]
    }
   ],
   "source": [
    "test.info()"
   ]
  },
  {
   "cell_type": "markdown",
   "id": "c66d59ae-2ffa-463d-9f29-b58f7340cfa5",
   "metadata": {},
   "source": [
    "## Imputing"
   ]
  },
  {
   "cell_type": "code",
   "execution_count": 41,
   "id": "33473410-7f09-4bee-b613-d50a15438da2",
   "metadata": {
    "tags": []
   },
   "outputs": [],
   "source": [
    "from sklearn.experimental import enable_iterative_imputer \n",
    "from sklearn.impute import IterativeImputer, SimpleImputer, KNNImputer\n",
    "from sklearn.linear_model import LinearRegression\n",
    "from sklearn.ensemble import RandomForestRegressor \n",
    "from sklearn.model_selection import train_test_split, cross_val_score, GridSearchCV\n",
    "from sklearn.pipeline import Pipeline\n",
    "from sklearn.compose import ColumnTransformer, make_column_selector\n",
    "from sklearn.preprocessing import StandardScaler, OneHotEncoder, FunctionTransformer\n",
    "from sklearn.compose import make_column_transformer, ColumnTransformer\n",
    "from sklearn.metrics import mean_absolute_error, mean_squared_error, r2_score \n",
    "from sklearn.svm import SVR\n",
    "from sklearn.ensemble import AdaBoostRegressor, ExtraTreesRegressor, GradientBoostingRegressor\n",
    "from sklearn.tree import DecisionTreeRegressor"
   ]
  },
  {
   "cell_type": "code",
   "execution_count": null,
   "id": "a149bba3-92e4-4dd6-91de-497a7f8f083b",
   "metadata": {},
   "outputs": [],
   "source": []
  },
  {
   "cell_type": "code",
   "execution_count": 48,
   "id": "468a644e-5b36-4fd5-bf4b-a21ec89a679d",
   "metadata": {
    "tags": []
   },
   "outputs": [],
   "source": [
    "X = train.drop(columns=['id','revenue'])\n",
    "y = train['revenue']"
   ]
  },
  {
   "cell_type": "code",
   "execution_count": 49,
   "id": "4698bd3d-0384-4e25-8ee8-32a69b047638",
   "metadata": {
    "tags": []
   },
   "outputs": [],
   "source": [
    "X_train, X_test, y_train, y_test = train_test_split(X,y, random_state=42)"
   ]
  },
  {
   "cell_type": "code",
   "execution_count": null,
   "id": "7622c936-efe2-4561-83bc-26052a3d0a11",
   "metadata": {},
   "outputs": [],
   "source": []
  }
 ],
 "metadata": {
  "kernelspec": {
   "display_name": "Python 3 (ipykernel)",
   "language": "python",
   "name": "python3"
  },
  "language_info": {
   "codemirror_mode": {
    "name": "ipython",
    "version": 3
   },
   "file_extension": ".py",
   "mimetype": "text/x-python",
   "name": "python",
   "nbconvert_exporter": "python",
   "pygments_lexer": "ipython3",
   "version": "3.11.5"
  }
 },
 "nbformat": 4,
 "nbformat_minor": 5
}
