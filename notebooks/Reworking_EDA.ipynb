{
 "cells": [
  {
   "cell_type": "code",
   "execution_count": 1,
   "id": "c323b633",
   "metadata": {
    "tags": []
   },
   "outputs": [],
   "source": [
    "import pandas as pd\n",
    "import numpy as np\n",
    "import matplotlib as plt\n",
    "import seaborn as sns\n",
    "import ast\n",
    "from datetime import datetime\n",
    "from sklearn.experimental import enable_iterative_imputer \n",
    "from sklearn.impute import SimpleImputer,IterativeImputer\n",
    "\n",
    "from sklearn.linear_model import LinearRegression\n"
   ]
  },
  {
   "cell_type": "code",
   "execution_count": 2,
   "id": "db682324",
   "metadata": {
    "tags": []
   },
   "outputs": [],
   "source": [
    "#Read in csv file\n",
    "train = pd.read_csv('../Datasets/train.csv')\n",
    "test = pd.read_csv('../Datasets/test.csv')"
   ]
  },
  {
   "cell_type": "code",
   "execution_count": 3,
   "id": "2ee23628-e998-4bbb-b41d-2cc79d15f1a3",
   "metadata": {
    "tags": []
   },
   "outputs": [
    {
     "name": "stdout",
     "output_type": "stream",
     "text": [
      "<class 'pandas.core.frame.DataFrame'>\n",
      "RangeIndex: 3000 entries, 0 to 2999\n",
      "Data columns (total 23 columns):\n",
      " #   Column                 Non-Null Count  Dtype  \n",
      "---  ------                 --------------  -----  \n",
      " 0   id                     3000 non-null   int64  \n",
      " 1   belongs_to_collection  604 non-null    object \n",
      " 2   budget                 3000 non-null   int64  \n",
      " 3   genres                 2993 non-null   object \n",
      " 4   homepage               946 non-null    object \n",
      " 5   imdb_id                3000 non-null   object \n",
      " 6   original_language      3000 non-null   object \n",
      " 7   original_title         3000 non-null   object \n",
      " 8   overview               2992 non-null   object \n",
      " 9   popularity             3000 non-null   float64\n",
      " 10  poster_path            2999 non-null   object \n",
      " 11  production_companies   2844 non-null   object \n",
      " 12  production_countries   2945 non-null   object \n",
      " 13  release_date           3000 non-null   object \n",
      " 14  runtime                2998 non-null   float64\n",
      " 15  spoken_languages       2980 non-null   object \n",
      " 16  status                 3000 non-null   object \n",
      " 17  tagline                2403 non-null   object \n",
      " 18  title                  3000 non-null   object \n",
      " 19  Keywords               2724 non-null   object \n",
      " 20  cast                   2987 non-null   object \n",
      " 21  crew                   2984 non-null   object \n",
      " 22  revenue                3000 non-null   int64  \n",
      "dtypes: float64(2), int64(3), object(18)\n",
      "memory usage: 539.2+ KB\n"
     ]
    }
   ],
   "source": [
    "train.info()"
   ]
  },
  {
   "cell_type": "code",
   "execution_count": 4,
   "id": "1c3c67e1-c9cd-4062-8075-3b0d2eb63cb2",
   "metadata": {
    "tags": []
   },
   "outputs": [
    {
     "data": {
      "text/plain": [
       "Index(['id', 'belongs_to_collection', 'budget', 'genres', 'homepage',\n",
       "       'imdb_id', 'original_language', 'original_title', 'overview',\n",
       "       'popularity', 'poster_path', 'production_companies',\n",
       "       'production_countries', 'release_date', 'runtime', 'spoken_languages',\n",
       "       'status', 'tagline', 'title', 'Keywords', 'cast', 'crew', 'revenue'],\n",
       "      dtype='object')"
      ]
     },
     "execution_count": 4,
     "metadata": {},
     "output_type": "execute_result"
    }
   ],
   "source": [
    "train.columns"
   ]
  },
  {
   "cell_type": "code",
   "execution_count": 5,
   "id": "aac93391",
   "metadata": {
    "tags": []
   },
   "outputs": [],
   "source": [
    "train = train.drop(columns = ['belongs_to_collection','homepage', 'imdb_id',\n",
    "                              'spoken_languages','original_title','overview',\n",
    "                              'poster_path','status','tagline', 'title',\n",
    "                              'Keywords','cast', 'crew'])\n",
    "test = test.drop(columns = ['belongs_to_collection','homepage', 'imdb_id',\n",
    "                              'spoken_languages','original_title','overview',\n",
    "                              'poster_path','status','tagline', 'title',\n",
    "                              'Keywords','cast', 'crew'])"
   ]
  },
  {
   "cell_type": "code",
   "execution_count": 6,
   "id": "c1b9b7aa-e8cb-48a7-b4ce-264a3acfedfa",
   "metadata": {
    "tags": []
   },
   "outputs": [
    {
     "name": "stdout",
     "output_type": "stream",
     "text": [
      "<class 'pandas.core.frame.DataFrame'>\n",
      "RangeIndex: 3000 entries, 0 to 2999\n",
      "Data columns (total 10 columns):\n",
      " #   Column                Non-Null Count  Dtype  \n",
      "---  ------                --------------  -----  \n",
      " 0   id                    3000 non-null   int64  \n",
      " 1   budget                3000 non-null   int64  \n",
      " 2   genres                2993 non-null   object \n",
      " 3   original_language     3000 non-null   object \n",
      " 4   popularity            3000 non-null   float64\n",
      " 5   production_companies  2844 non-null   object \n",
      " 6   production_countries  2945 non-null   object \n",
      " 7   release_date          3000 non-null   object \n",
      " 8   runtime               2998 non-null   float64\n",
      " 9   revenue               3000 non-null   int64  \n",
      "dtypes: float64(2), int64(3), object(5)\n",
      "memory usage: 234.5+ KB\n"
     ]
    }
   ],
   "source": [
    "train.info()"
   ]
  },
  {
   "cell_type": "markdown",
   "id": "16eda231-5911-438a-8dac-0963b34404ed",
   "metadata": {
    "tags": []
   },
   "source": [
    "## Dealing with missing values"
   ]
  },
  {
   "cell_type": "markdown",
   "id": "90de3283-4169-4338-a9e0-939fdfbeef9f",
   "metadata": {
    "tags": []
   },
   "source": [
    "### genres, production_countries, spoken_languages"
   ]
  },
  {
   "cell_type": "markdown",
   "id": "a141f2c1-5b1c-47d0-a204-9d839f724436",
   "metadata": {
    "tags": []
   },
   "source": [
    "# Note for ARjun. You need to deal with missing values before you can run the following functions as is. my suggestion is that u change the functionality of the functions such that they work despite the missing values and also think of the outputs because those are what you will be dummying.\n",
    "\n",
    "[heres lab 2.07 where you use ohe and make_column_transformer()](https://git.generalassemb.ly/kalymaan/lab-2.07-clustering/blob/main/starter-code.ipynb)"
   ]
  },
  {
   "cell_type": "markdown",
   "id": "99625daf-e237-4796-94d8-f5c0abe9e428",
   "metadata": {},
   "source": [
    "#### converting list of dictionaries which are written as strings into actual lists"
   ]
  },
  {
   "cell_type": "code",
   "execution_count": 7,
   "id": "12c2b76d-adbe-415e-9260-cce50a372bd4",
   "metadata": {
    "tags": []
   },
   "outputs": [],
   "source": [
    "big_dict = {'genres': 'name', \n",
    " 'production_companies': 'name', \n",
    " 'production_countries': 'name'\n",
    " #'spoken_languages': 'iso_639_1' # 'name' may be used... compare iso to original language, if same we drop\n",
    " # 'Keywords': 'name' \n",
    " #'cast': ['gender','order'], # take the 'gender' from 'order' = 0 ******************\n",
    "}\n",
    "\n"
   ]
  },
  {
   "cell_type": "markdown",
   "id": "7a1b0449-28b0-4915-be7e-e4e05533ba0b",
   "metadata": {
    "tags": []
   },
   "source": [
    "##### This is a function for the loop below it"
   ]
  },
  {
   "cell_type": "code",
   "execution_count": 8,
   "id": "666e70ca-580a-42c1-bab1-f217c6071346",
   "metadata": {
    "tags": []
   },
   "outputs": [],
   "source": [
    "def feature_extractor(l, key_we_want):\n",
    "    # Input: l is the list we want to extract from.\n",
    "    #        key_we_want is the key we want lol\n",
    "    \n",
    "    return [d[key_we_want] for d in l]"
   ]
  },
  {
   "cell_type": "markdown",
   "id": "f553db73-eb1e-4248-8e6a-edbdb11c6025",
   "metadata": {},
   "source": [
    "#### This is where we tutrn those crazy columns into things we can work with"
   ]
  },
  {
   "cell_type": "code",
   "execution_count": 9,
   "id": "b5332144-e736-4e90-9394-4a7eedca4799",
   "metadata": {
    "tags": []
   },
   "outputs": [],
   "source": [
    "for col_name, info_we_want in big_dict.items():\n",
    "    \n",
    "    \n",
    "    \n",
    "    train[col_name] = train[col_name][train[col_name].notna()].apply(ast.literal_eval) \n",
    "    test[col_name] = test[col_name][test[col_name].notna()].apply(ast.literal_eval) \n",
    "    \n",
    "    train[col_name] = train[col_name][train[col_name].notna()].apply(lambda x: feature_extractor(x, info_we_want))\n",
    "    test[col_name] =test[col_name][test[col_name].notna()].apply(lambda x: feature_extractor(x, info_we_want))\n",
    "    \n",
    "    \n",
    "    "
   ]
  },
  {
   "cell_type": "code",
   "execution_count": 10,
   "id": "8e5b8eff-3475-484b-9a8c-195672cd1b1c",
   "metadata": {
    "tags": []
   },
   "outputs": [
    {
     "data": {
      "text/html": [
       "<div>\n",
       "<style scoped>\n",
       "    .dataframe tbody tr th:only-of-type {\n",
       "        vertical-align: middle;\n",
       "    }\n",
       "\n",
       "    .dataframe tbody tr th {\n",
       "        vertical-align: top;\n",
       "    }\n",
       "\n",
       "    .dataframe thead th {\n",
       "        text-align: right;\n",
       "    }\n",
       "</style>\n",
       "<table border=\"1\" class=\"dataframe\">\n",
       "  <thead>\n",
       "    <tr style=\"text-align: right;\">\n",
       "      <th></th>\n",
       "      <th>id</th>\n",
       "      <th>budget</th>\n",
       "      <th>genres</th>\n",
       "      <th>original_language</th>\n",
       "      <th>popularity</th>\n",
       "      <th>production_companies</th>\n",
       "      <th>production_countries</th>\n",
       "      <th>release_date</th>\n",
       "      <th>runtime</th>\n",
       "      <th>revenue</th>\n",
       "    </tr>\n",
       "  </thead>\n",
       "  <tbody>\n",
       "    <tr>\n",
       "      <th>0</th>\n",
       "      <td>1</td>\n",
       "      <td>14000000</td>\n",
       "      <td>[Comedy]</td>\n",
       "      <td>en</td>\n",
       "      <td>6.575393</td>\n",
       "      <td>[Paramount Pictures, United Artists, Metro-Gol...</td>\n",
       "      <td>[United States of America]</td>\n",
       "      <td>2/20/15</td>\n",
       "      <td>93.0</td>\n",
       "      <td>12314651</td>\n",
       "    </tr>\n",
       "    <tr>\n",
       "      <th>1</th>\n",
       "      <td>2</td>\n",
       "      <td>40000000</td>\n",
       "      <td>[Comedy, Drama, Family, Romance]</td>\n",
       "      <td>en</td>\n",
       "      <td>8.248895</td>\n",
       "      <td>[Walt Disney Pictures]</td>\n",
       "      <td>[United States of America]</td>\n",
       "      <td>8/6/04</td>\n",
       "      <td>113.0</td>\n",
       "      <td>95149435</td>\n",
       "    </tr>\n",
       "    <tr>\n",
       "      <th>2</th>\n",
       "      <td>3</td>\n",
       "      <td>3300000</td>\n",
       "      <td>[Drama]</td>\n",
       "      <td>en</td>\n",
       "      <td>64.299990</td>\n",
       "      <td>[Bold Films, Blumhouse Productions, Right of W...</td>\n",
       "      <td>[United States of America]</td>\n",
       "      <td>10/10/14</td>\n",
       "      <td>105.0</td>\n",
       "      <td>13092000</td>\n",
       "    </tr>\n",
       "    <tr>\n",
       "      <th>3</th>\n",
       "      <td>4</td>\n",
       "      <td>1200000</td>\n",
       "      <td>[Thriller, Drama]</td>\n",
       "      <td>hi</td>\n",
       "      <td>3.174936</td>\n",
       "      <td>NaN</td>\n",
       "      <td>[India]</td>\n",
       "      <td>3/9/12</td>\n",
       "      <td>122.0</td>\n",
       "      <td>16000000</td>\n",
       "    </tr>\n",
       "    <tr>\n",
       "      <th>4</th>\n",
       "      <td>5</td>\n",
       "      <td>0</td>\n",
       "      <td>[Action, Thriller]</td>\n",
       "      <td>ko</td>\n",
       "      <td>1.148070</td>\n",
       "      <td>NaN</td>\n",
       "      <td>[South Korea]</td>\n",
       "      <td>2/5/09</td>\n",
       "      <td>118.0</td>\n",
       "      <td>3923970</td>\n",
       "    </tr>\n",
       "  </tbody>\n",
       "</table>\n",
       "</div>"
      ],
      "text/plain": [
       "   id    budget                            genres original_language  \\\n",
       "0   1  14000000                          [Comedy]                en   \n",
       "1   2  40000000  [Comedy, Drama, Family, Romance]                en   \n",
       "2   3   3300000                           [Drama]                en   \n",
       "3   4   1200000                 [Thriller, Drama]                hi   \n",
       "4   5         0                [Action, Thriller]                ko   \n",
       "\n",
       "   popularity                               production_companies  \\\n",
       "0    6.575393  [Paramount Pictures, United Artists, Metro-Gol...   \n",
       "1    8.248895                             [Walt Disney Pictures]   \n",
       "2   64.299990  [Bold Films, Blumhouse Productions, Right of W...   \n",
       "3    3.174936                                                NaN   \n",
       "4    1.148070                                                NaN   \n",
       "\n",
       "         production_countries release_date  runtime   revenue  \n",
       "0  [United States of America]      2/20/15     93.0  12314651  \n",
       "1  [United States of America]       8/6/04    113.0  95149435  \n",
       "2  [United States of America]     10/10/14    105.0  13092000  \n",
       "3                     [India]       3/9/12    122.0  16000000  \n",
       "4               [South Korea]       2/5/09    118.0   3923970  "
      ]
     },
     "execution_count": 10,
     "metadata": {},
     "output_type": "execute_result"
    }
   ],
   "source": [
    "train.head()"
   ]
  },
  {
   "cell_type": "code",
   "execution_count": 11,
   "id": "5f0f946e-bdb2-44a3-a34b-56b521e24aa2",
   "metadata": {
    "tags": []
   },
   "outputs": [
    {
     "name": "stdout",
     "output_type": "stream",
     "text": [
      "<class 'pandas.core.frame.DataFrame'>\n",
      "RangeIndex: 3000 entries, 0 to 2999\n",
      "Data columns (total 10 columns):\n",
      " #   Column                Non-Null Count  Dtype  \n",
      "---  ------                --------------  -----  \n",
      " 0   id                    3000 non-null   int64  \n",
      " 1   budget                3000 non-null   int64  \n",
      " 2   genres                2993 non-null   object \n",
      " 3   original_language     3000 non-null   object \n",
      " 4   popularity            3000 non-null   float64\n",
      " 5   production_companies  2844 non-null   object \n",
      " 6   production_countries  2945 non-null   object \n",
      " 7   release_date          3000 non-null   object \n",
      " 8   runtime               2998 non-null   float64\n",
      " 9   revenue               3000 non-null   int64  \n",
      "dtypes: float64(2), int64(3), object(5)\n",
      "memory usage: 234.5+ KB\n"
     ]
    }
   ],
   "source": [
    "train.info()"
   ]
  },
  {
   "cell_type": "code",
   "execution_count": null,
   "id": "4a54e048-e570-4017-945e-65f9ced19acd",
   "metadata": {},
   "outputs": [],
   "source": []
  },
  {
   "cell_type": "markdown",
   "id": "861b557c-f9f0-49b3-bb75-f71658a7bef3",
   "metadata": {
    "tags": []
   },
   "source": [
    "### ok turn releasedate into unix"
   ]
  },
  {
   "cell_type": "code",
   "execution_count": 27,
   "id": "76e5a4a9-c93b-45c7-a877-c9d48113fe57",
   "metadata": {
    "tags": []
   },
   "outputs": [
    {
     "data": {
      "text/plain": [
       "'10/10/14'"
      ]
     },
     "execution_count": 27,
     "metadata": {},
     "output_type": "execute_result"
    }
   ],
   "source": [
    "train['release_date'].iloc[2]"
   ]
  },
  {
   "cell_type": "code",
   "execution_count": 29,
   "id": "8245e4de-8ba7-415f-90ae-e03a4970c94b",
   "metadata": {
    "tags": []
   },
   "outputs": [
    {
     "data": {
      "text/plain": [
       "1412917200"
      ]
     },
     "execution_count": 29,
     "metadata": {},
     "output_type": "execute_result"
    }
   ],
   "source": [
    "int(datetime.strptime(train['release_date'].iloc[2], \"%m/%d/%y\").timestamp())"
   ]
  },
  {
   "cell_type": "code",
   "execution_count": 32,
   "id": "65f2c7e6-d214-4c64-b5ee-a72b5f12a5a7",
   "metadata": {
    "tags": []
   },
   "outputs": [
    {
     "ename": "OSError",
     "evalue": "[Errno 22] Invalid argument",
     "output_type": "error",
     "traceback": [
      "\u001b[1;31m---------------------------------------------------------------------------\u001b[0m",
      "\u001b[1;31mOSError\u001b[0m                                   Traceback (most recent call last)",
      "Cell \u001b[1;32mIn[32], line 1\u001b[0m\n\u001b[1;32m----> 1\u001b[0m [\u001b[38;5;28mint\u001b[39m(datetime\u001b[38;5;241m.\u001b[39mstrptime(x, \u001b[38;5;124m\"\u001b[39m\u001b[38;5;124m%\u001b[39m\u001b[38;5;124mm/\u001b[39m\u001b[38;5;132;01m%d\u001b[39;00m\u001b[38;5;124m/\u001b[39m\u001b[38;5;124m%\u001b[39m\u001b[38;5;124my\u001b[39m\u001b[38;5;124m\"\u001b[39m)\u001b[38;5;241m.\u001b[39mtimestamp()) \u001b[38;5;28;01mfor\u001b[39;00m x \u001b[38;5;129;01min\u001b[39;00m train[\u001b[38;5;124m'\u001b[39m\u001b[38;5;124mrelease_date\u001b[39m\u001b[38;5;124m'\u001b[39m]]\n",
      "Cell \u001b[1;32mIn[32], line 1\u001b[0m, in \u001b[0;36m<listcomp>\u001b[1;34m(.0)\u001b[0m\n\u001b[1;32m----> 1\u001b[0m [\u001b[38;5;28mint\u001b[39m(datetime\u001b[38;5;241m.\u001b[39mstrptime(x, \u001b[38;5;124m\"\u001b[39m\u001b[38;5;124m%\u001b[39m\u001b[38;5;124mm/\u001b[39m\u001b[38;5;132;01m%d\u001b[39;00m\u001b[38;5;124m/\u001b[39m\u001b[38;5;124m%\u001b[39m\u001b[38;5;124my\u001b[39m\u001b[38;5;124m\"\u001b[39m)\u001b[38;5;241m.\u001b[39mtimestamp()) \u001b[38;5;28;01mfor\u001b[39;00m x \u001b[38;5;129;01min\u001b[39;00m train[\u001b[38;5;124m'\u001b[39m\u001b[38;5;124mrelease_date\u001b[39m\u001b[38;5;124m'\u001b[39m]]\n",
      "\u001b[1;31mOSError\u001b[0m: [Errno 22] Invalid argument"
     ]
    }
   ],
   "source": [
    "[int(datetime.strptime(x, \"%m/%d/%y\").timestamp()) for x in train['release_date']]"
   ]
  },
  {
   "cell_type": "code",
   "execution_count": 31,
   "id": "9b713fa0-bbd0-4d83-af05-8b369203e9dc",
   "metadata": {
    "tags": []
   },
   "outputs": [
    {
     "ename": "OSError",
     "evalue": "[Errno 22] Invalid argument",
     "output_type": "error",
     "traceback": [
      "\u001b[1;31m---------------------------------------------------------------------------\u001b[0m",
      "\u001b[1;31mOSError\u001b[0m                                   Traceback (most recent call last)",
      "Cell \u001b[1;32mIn[31], line 1\u001b[0m\n\u001b[1;32m----> 1\u001b[0m train[\u001b[38;5;124m'\u001b[39m\u001b[38;5;124mrelease_date\u001b[39m\u001b[38;5;124m'\u001b[39m]\u001b[38;5;241m.\u001b[39mapply(\u001b[38;5;28;01mlambda\u001b[39;00m x : \u001b[38;5;28mint\u001b[39m(datetime\u001b[38;5;241m.\u001b[39mstrptime(x, \u001b[38;5;124m\"\u001b[39m\u001b[38;5;124m%\u001b[39m\u001b[38;5;124mm/\u001b[39m\u001b[38;5;132;01m%d\u001b[39;00m\u001b[38;5;124m/\u001b[39m\u001b[38;5;124m%\u001b[39m\u001b[38;5;124my\u001b[39m\u001b[38;5;124m\"\u001b[39m)\u001b[38;5;241m.\u001b[39mtimestamp()))\n",
      "File \u001b[1;32m~\\anaconda3\\Lib\\site-packages\\pandas\\core\\series.py:4630\u001b[0m, in \u001b[0;36mSeries.apply\u001b[1;34m(self, func, convert_dtype, args, **kwargs)\u001b[0m\n\u001b[0;32m   4520\u001b[0m \u001b[38;5;28;01mdef\u001b[39;00m \u001b[38;5;21mapply\u001b[39m(\n\u001b[0;32m   4521\u001b[0m     \u001b[38;5;28mself\u001b[39m,\n\u001b[0;32m   4522\u001b[0m     func: AggFuncType,\n\u001b[1;32m   (...)\u001b[0m\n\u001b[0;32m   4525\u001b[0m     \u001b[38;5;241m*\u001b[39m\u001b[38;5;241m*\u001b[39mkwargs,\n\u001b[0;32m   4526\u001b[0m ) \u001b[38;5;241m-\u001b[39m\u001b[38;5;241m>\u001b[39m DataFrame \u001b[38;5;241m|\u001b[39m Series:\n\u001b[0;32m   4527\u001b[0m \u001b[38;5;250m    \u001b[39m\u001b[38;5;124;03m\"\"\"\u001b[39;00m\n\u001b[0;32m   4528\u001b[0m \u001b[38;5;124;03m    Invoke function on values of Series.\u001b[39;00m\n\u001b[0;32m   4529\u001b[0m \n\u001b[1;32m   (...)\u001b[0m\n\u001b[0;32m   4628\u001b[0m \u001b[38;5;124;03m    dtype: float64\u001b[39;00m\n\u001b[0;32m   4629\u001b[0m \u001b[38;5;124;03m    \"\"\"\u001b[39;00m\n\u001b[1;32m-> 4630\u001b[0m     \u001b[38;5;28;01mreturn\u001b[39;00m SeriesApply(\u001b[38;5;28mself\u001b[39m, func, convert_dtype, args, kwargs)\u001b[38;5;241m.\u001b[39mapply()\n",
      "File \u001b[1;32m~\\anaconda3\\Lib\\site-packages\\pandas\\core\\apply.py:1025\u001b[0m, in \u001b[0;36mSeriesApply.apply\u001b[1;34m(self)\u001b[0m\n\u001b[0;32m   1022\u001b[0m     \u001b[38;5;28;01mreturn\u001b[39;00m \u001b[38;5;28mself\u001b[39m\u001b[38;5;241m.\u001b[39mapply_str()\n\u001b[0;32m   1024\u001b[0m \u001b[38;5;66;03m# self.f is Callable\u001b[39;00m\n\u001b[1;32m-> 1025\u001b[0m \u001b[38;5;28;01mreturn\u001b[39;00m \u001b[38;5;28mself\u001b[39m\u001b[38;5;241m.\u001b[39mapply_standard()\n",
      "File \u001b[1;32m~\\anaconda3\\Lib\\site-packages\\pandas\\core\\apply.py:1076\u001b[0m, in \u001b[0;36mSeriesApply.apply_standard\u001b[1;34m(self)\u001b[0m\n\u001b[0;32m   1074\u001b[0m     \u001b[38;5;28;01melse\u001b[39;00m:\n\u001b[0;32m   1075\u001b[0m         values \u001b[38;5;241m=\u001b[39m obj\u001b[38;5;241m.\u001b[39mastype(\u001b[38;5;28mobject\u001b[39m)\u001b[38;5;241m.\u001b[39m_values\n\u001b[1;32m-> 1076\u001b[0m         mapped \u001b[38;5;241m=\u001b[39m lib\u001b[38;5;241m.\u001b[39mmap_infer(\n\u001b[0;32m   1077\u001b[0m             values,\n\u001b[0;32m   1078\u001b[0m             f,\n\u001b[0;32m   1079\u001b[0m             convert\u001b[38;5;241m=\u001b[39m\u001b[38;5;28mself\u001b[39m\u001b[38;5;241m.\u001b[39mconvert_dtype,\n\u001b[0;32m   1080\u001b[0m         )\n\u001b[0;32m   1082\u001b[0m \u001b[38;5;28;01mif\u001b[39;00m \u001b[38;5;28mlen\u001b[39m(mapped) \u001b[38;5;129;01mand\u001b[39;00m \u001b[38;5;28misinstance\u001b[39m(mapped[\u001b[38;5;241m0\u001b[39m], ABCSeries):\n\u001b[0;32m   1083\u001b[0m     \u001b[38;5;66;03m# GH#43986 Need to do list(mapped) in order to get treated as nested\u001b[39;00m\n\u001b[0;32m   1084\u001b[0m     \u001b[38;5;66;03m#  See also GH#25959 regarding EA support\u001b[39;00m\n\u001b[0;32m   1085\u001b[0m     \u001b[38;5;28;01mreturn\u001b[39;00m obj\u001b[38;5;241m.\u001b[39m_constructor_expanddim(\u001b[38;5;28mlist\u001b[39m(mapped), index\u001b[38;5;241m=\u001b[39mobj\u001b[38;5;241m.\u001b[39mindex)\n",
      "File \u001b[1;32m~\\anaconda3\\Lib\\site-packages\\pandas\\_libs\\lib.pyx:2834\u001b[0m, in \u001b[0;36mpandas._libs.lib.map_infer\u001b[1;34m()\u001b[0m\n",
      "Cell \u001b[1;32mIn[31], line 1\u001b[0m, in \u001b[0;36m<lambda>\u001b[1;34m(x)\u001b[0m\n\u001b[1;32m----> 1\u001b[0m train[\u001b[38;5;124m'\u001b[39m\u001b[38;5;124mrelease_date\u001b[39m\u001b[38;5;124m'\u001b[39m]\u001b[38;5;241m.\u001b[39mapply(\u001b[38;5;28;01mlambda\u001b[39;00m x : \u001b[38;5;28mint\u001b[39m(datetime\u001b[38;5;241m.\u001b[39mstrptime(x, \u001b[38;5;124m\"\u001b[39m\u001b[38;5;124m%\u001b[39m\u001b[38;5;124mm/\u001b[39m\u001b[38;5;132;01m%d\u001b[39;00m\u001b[38;5;124m/\u001b[39m\u001b[38;5;124m%\u001b[39m\u001b[38;5;124my\u001b[39m\u001b[38;5;124m\"\u001b[39m)\u001b[38;5;241m.\u001b[39mtimestamp()))\n",
      "\u001b[1;31mOSError\u001b[0m: [Errno 22] Invalid argument"
     ]
    }
   ],
   "source": [
    "train['release_date'].apply(lambda x : int(datetime.strptime(x, \"%m/%d/%y\").timestamp()))"
   ]
  },
  {
   "cell_type": "code",
   "execution_count": null,
   "id": "8a23d120-9d62-4357-8de1-50fa809746f8",
   "metadata": {
    "tags": []
   },
   "outputs": [],
   "source": [
    "train['release_date'] = train['release_date'].apply(lambda x: int(datetime.strptime(x, \"%m/%d/%y\").timestamp()))\n",
    "test['release_date'] = test['release_date'].apply(lambda x: int(datetime.strptime(x, \"%m/%d/%y\").timestamp()))"
   ]
  },
  {
   "cell_type": "markdown",
   "id": "673b9e71-254f-4a44-b7b3-c8e5df78c448",
   "metadata": {},
   "source": [
    "## dummifying the categorical columns"
   ]
  },
  {
   "cell_type": "markdown",
   "id": "3771ea09-bf5b-48f5-9546-30869c9c60a3",
   "metadata": {},
   "source": [
    "Will not be dropping first in the following three categorical values because they are all multicategory(not mutually exclusive)"
   ]
  },
  {
   "cell_type": "code",
   "execution_count": null,
   "id": "1993a25e-e23b-4b0c-b4e2-ebbc695784fe",
   "metadata": {
    "tags": []
   },
   "outputs": [],
   "source": [
    "combined_df = pd.concat([train,test],axis=0,ignore_index=True)"
   ]
  },
  {
   "cell_type": "markdown",
   "id": "d6da4969-fc40-4627-a7d1-ab4b35e2fea5",
   "metadata": {},
   "source": [
    "genres"
   ]
  },
  {
   "cell_type": "code",
   "execution_count": null,
   "id": "c1daf6d0-4415-4ebb-8342-1d971008d7a5",
   "metadata": {
    "tags": []
   },
   "outputs": [],
   "source": [
    "genres_dummies = pd.get_dummies(combined_df['genres'].explode(), prefix='genre')\n",
    "\n",
    "genres_dummies = genres_dummies.groupby(genres_dummies.index).sum()\n",
    "\n",
    "combined_df = pd.concat([combined_df,genres_dummies], axis=1)\n",
    "\n",
    "combined_df.drop('genres', axis=1, inplace=True)"
   ]
  },
  {
   "cell_type": "markdown",
   "id": "fe246229-a92d-4517-ad2b-0c7419faa120",
   "metadata": {
    "tags": []
   },
   "source": [
    "production_company"
   ]
  },
  {
   "cell_type": "code",
   "execution_count": null,
   "id": "bd3764df-e0a2-4524-9777-1516857c313f",
   "metadata": {
    "tags": []
   },
   "outputs": [],
   "source": [
    "production_country_dummies = pd.get_dummies(combined_df['production_countries'].explode(), prefix='prod_country')\n",
    "\n",
    "production_country_dummies = production_country_dummies.groupby(production_country_dummies.index).sum()\n",
    "\n",
    "combined_df = pd.concat([combined_df,production_country_dummies], axis=1)\n",
    "\n",
    "combined_df.drop('production_countries', axis=1, inplace=True)"
   ]
  },
  {
   "cell_type": "markdown",
   "id": "25b2a363-863d-4ce1-994c-2823ca665258",
   "metadata": {},
   "source": [
    "spoken language"
   ]
  },
  {
   "cell_type": "code",
   "execution_count": null,
   "id": "e4b7831e-bb50-4bb3-bf73-8b4afe41f474",
   "metadata": {
    "tags": []
   },
   "outputs": [],
   "source": [
    "spoken_language_dummies = pd.get_dummies(combined_df['spoken_languages'].explode(), prefix='spoken_lang')\n",
    "\n",
    "spoken_language_dummies = spoken_language_dummies.groupby(spoken_language_dummies.index).sum()\n",
    "\n",
    "combined_df = pd.concat([combined_df,spoken_language_dummies], axis=1)\n",
    "\n",
    "combined_df.drop('spoken_languages', axis=1, inplace=True)"
   ]
  },
  {
   "cell_type": "code",
   "execution_count": null,
   "id": "304273b9-29f2-4068-b362-7eef4dfbf6a2",
   "metadata": {
    "tags": []
   },
   "outputs": [],
   "source": [
    "combined_df.shape"
   ]
  },
  {
   "cell_type": "markdown",
   "id": "2247fb77-be27-4e53-ace1-a4273f1a0fc2",
   "metadata": {},
   "source": [
    "# Making a length of title column"
   ]
  },
  {
   "cell_type": "code",
   "execution_count": null,
   "id": "75e6ceb2-994c-4379-b93f-aae87712c21a",
   "metadata": {
    "jp-MarkdownHeadingCollapsed": true,
    "tags": []
   },
   "outputs": [],
   "source": [
    "combined_df['length_of_title'] = combined_df['original_title'].str.len()\n"
   ]
  },
  {
   "cell_type": "code",
   "execution_count": null,
   "id": "80c7b0c8-32d5-4684-9906-d2cc15aec266",
   "metadata": {},
   "outputs": [],
   "source": [
    "combined_df.drop(columns=['original_title'], inplace=True)"
   ]
  },
  {
   "cell_type": "markdown",
   "id": "38644dc7-e2a9-48bd-8ac3-e5d66409af9c",
   "metadata": {},
   "source": [
    "Ok splitting the daatafram back into train and test"
   ]
  },
  {
   "cell_type": "code",
   "execution_count": null,
   "id": "f6c31251-b8b4-488a-958f-5beac48a6eaa",
   "metadata": {
    "tags": []
   },
   "outputs": [],
   "source": [
    "object_cols = list(combined_df.select_dtypes('object').columns.values)\n",
    "object_cols"
   ]
  },
  {
   "cell_type": "code",
   "execution_count": null,
   "id": "f798c6b3-6c36-4646-a2db-aa7c38688394",
   "metadata": {
    "tags": []
   },
   "outputs": [],
   "source": [
    "numeric_cols = list(combined_df._get_numeric_data().columns)"
   ]
  },
  {
   "cell_type": "code",
   "execution_count": null,
   "id": "27f01494-2906-4d14-aca3-2bcc7d8daae1",
   "metadata": {
    "tags": []
   },
   "outputs": [],
   "source": [
    "len(numeric_cols)"
   ]
  },
  {
   "cell_type": "code",
   "execution_count": null,
   "id": "058d8a37-f719-45aa-b34d-4eff36df4daf",
   "metadata": {
    "tags": []
   },
   "outputs": [],
   "source": [
    "train_size = len(train)\n",
    "train_dummified = combined_df[:train_size]\n",
    "test_dummified = combined_df[train_size:]"
   ]
  },
  {
   "cell_type": "code",
   "execution_count": null,
   "id": "31012a54-5a91-41d6-a57d-b7f6a9b527f4",
   "metadata": {
    "tags": []
   },
   "outputs": [],
   "source": [
    "test_dummified = test_dummified.drop(columns=['revenue'])"
   ]
  },
  {
   "cell_type": "code",
   "execution_count": null,
   "id": "d867a0a6-c98b-4482-9629-28ffa6f86c3f",
   "metadata": {
    "tags": []
   },
   "outputs": [],
   "source": [
    "test_dummified.shape"
   ]
  },
  {
   "cell_type": "code",
   "execution_count": null,
   "id": "3bc92020-f8db-48c4-89bb-2a5579c2ce09",
   "metadata": {
    "tags": []
   },
   "outputs": [],
   "source": [
    "train_dummified.shape"
   ]
  },
  {
   "cell_type": "code",
   "execution_count": null,
   "id": "5713f691-264c-4b30-8c59-9415c575970d",
   "metadata": {},
   "outputs": [],
   "source": []
  }
 ],
 "metadata": {
  "kernelspec": {
   "display_name": "Python 3 (ipykernel)",
   "language": "python",
   "name": "python3"
  },
  "language_info": {
   "codemirror_mode": {
    "name": "ipython",
    "version": 3
   },
   "file_extension": ".py",
   "mimetype": "text/x-python",
   "name": "python",
   "nbconvert_exporter": "python",
   "pygments_lexer": "ipython3",
   "version": "3.11.5"
  }
 },
 "nbformat": 4,
 "nbformat_minor": 5
}
