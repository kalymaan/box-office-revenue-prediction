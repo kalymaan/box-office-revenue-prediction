{
 "cells": [
  {
   "cell_type": "code",
   "execution_count": 1,
   "id": "c323b633",
   "metadata": {
    "tags": []
   },
   "outputs": [],
   "source": [
    "import pandas as pd\n",
    "import numpy as np\n",
    "import matplotlib as plt\n",
    "import seaborn as sns\n",
    "import ast\n",
    "from datetime import datetime"
   ]
  },
  {
   "cell_type": "code",
   "execution_count": 2,
   "id": "db682324",
   "metadata": {
    "tags": []
   },
   "outputs": [],
   "source": [
    "#Read in csv file\n",
    "train = pd.read_csv('Datasets/train.csv')\n",
    "test = pd.read_csv('Datasets/test.csv')"
   ]
  },
  {
   "cell_type": "code",
   "execution_count": 3,
   "id": "aac93391",
   "metadata": {
    "tags": []
   },
   "outputs": [],
   "source": [
    "#Dropping columns with a lot of missing values and won't be used in analysis\n",
    "train = train.drop(columns = ['id', 'homepage', 'imdb_id', 'tagline', 'overview', 'crew', 'status','original_language', 'poster_path', 'title'])"
   ]
  },
  {
   "cell_type": "code",
   "execution_count": 4,
   "id": "2760a97c-c510-4bb5-9e84-5191c3fc11dc",
   "metadata": {
    "tags": []
   },
   "outputs": [],
   "source": [
    "test = test.drop(columns = ['id', 'homepage', 'imdb_id', 'tagline', 'overview','crew','status','original_language', 'poster_path','title'])"
   ]
  },
  {
   "cell_type": "code",
   "execution_count": 5,
   "id": "81cc0f0c-5fae-4b18-a460-1580327c07d2",
   "metadata": {
    "tags": []
   },
   "outputs": [
    {
     "name": "stdout",
     "output_type": "stream",
     "text": [
      "<class 'pandas.core.frame.DataFrame'>\n",
      "RangeIndex: 3000 entries, 0 to 2999\n",
      "Data columns (total 13 columns):\n",
      " #   Column                 Non-Null Count  Dtype  \n",
      "---  ------                 --------------  -----  \n",
      " 0   belongs_to_collection  604 non-null    object \n",
      " 1   budget                 3000 non-null   int64  \n",
      " 2   genres                 2993 non-null   object \n",
      " 3   original_title         3000 non-null   object \n",
      " 4   popularity             3000 non-null   float64\n",
      " 5   production_companies   2844 non-null   object \n",
      " 6   production_countries   2945 non-null   object \n",
      " 7   release_date           3000 non-null   object \n",
      " 8   runtime                2998 non-null   float64\n",
      " 9   spoken_languages       2980 non-null   object \n",
      " 10  Keywords               2724 non-null   object \n",
      " 11  cast                   2987 non-null   object \n",
      " 12  revenue                3000 non-null   int64  \n",
      "dtypes: float64(2), int64(2), object(9)\n",
      "memory usage: 304.8+ KB\n"
     ]
    }
   ],
   "source": [
    "train.info()"
   ]
  },
  {
   "cell_type": "markdown",
   "id": "16eda231-5911-438a-8dac-0963b34404ed",
   "metadata": {
    "tags": []
   },
   "source": [
    "### Dropping rows with misssing values"
   ]
  },
  {
   "cell_type": "markdown",
   "id": "69fce0a6-1e98-4927-8ba1-fcac66bf80b6",
   "metadata": {},
   "source": [
    "Dropping rows if the total missing value is ~10% of the total data."
   ]
  },
  {
   "cell_type": "code",
   "execution_count": 6,
   "id": "b3c8c606-ebcf-4fe9-adad-d278f10adc62",
   "metadata": {
    "tags": []
   },
   "outputs": [],
   "source": [
    "# Dropping rows if the total missing value is ~10% of the total data.\n",
    "# https://pandas.pydata.org/docs/reference/api/pandas.DataFrame.dropna.html\n",
    "train = train.dropna(subset = ['Keywords', 'spoken_languages', 'production_countries', 'production_companies',  'genres'])"
   ]
  },
  {
   "cell_type": "code",
   "execution_count": 7,
   "id": "0019450e-ea6c-4f8b-93f8-3f3067214659",
   "metadata": {
    "tags": []
   },
   "outputs": [],
   "source": [
    "test = test.dropna(subset = ['Keywords', 'spoken_languages', 'production_countries', 'production_companies',  'genres'])"
   ]
  },
  {
   "cell_type": "markdown",
   "id": "7f6905be-f653-4880-b1d0-471b5c6a1d97",
   "metadata": {},
   "source": [
    "### belongs_to_collection -- binarizing"
   ]
  },
  {
   "cell_type": "code",
   "execution_count": 8,
   "id": "9b0a6460-d1e1-47ca-a950-199bbd9d39dc",
   "metadata": {
    "tags": []
   },
   "outputs": [],
   "source": [
    "train['belongs_to_collection'] = train['belongs_to_collection']. notna().astype(int)"
   ]
  },
  {
   "cell_type": "code",
   "execution_count": 9,
   "id": "18e20d13-0124-424d-ae3d-93daab6122d5",
   "metadata": {
    "tags": []
   },
   "outputs": [],
   "source": [
    "test['belongs_to_collection'] = test['belongs_to_collection']. notna().astype(int)"
   ]
  },
  {
   "cell_type": "markdown",
   "id": "37354925",
   "metadata": {
    "tags": []
   },
   "source": [
    "## Converting list of dictionaries which are written as strings, into actual lists"
   ]
  },
  {
   "cell_type": "markdown",
   "id": "314cc8ad-64ae-4406-9ef1-179c13d5864f",
   "metadata": {},
   "source": [
    "### Temporarily dropping 'cast' and 'keywords', 'production_companies' because we are on time crunch. If we have time, we can do it."
   ]
  },
  {
   "cell_type": "code",
   "execution_count": 10,
   "id": "e611228b-be9b-4aa6-9b96-c41a20552889",
   "metadata": {
    "tags": []
   },
   "outputs": [],
   "source": [
    "test = test.drop(columns = ['cast','Keywords','production_companies'])\n",
    "train = train.drop(columns = ['cast','Keywords','production_companies'])"
   ]
  },
  {
   "cell_type": "code",
   "execution_count": 11,
   "id": "a4d59417-6848-4152-88a8-2a8c061b73d7",
   "metadata": {
    "tags": []
   },
   "outputs": [
    {
     "name": "stdout",
     "output_type": "stream",
     "text": [
      "<class 'pandas.core.frame.DataFrame'>\n",
      "Index: 2623 entries, 0 to 2999\n",
      "Data columns (total 10 columns):\n",
      " #   Column                 Non-Null Count  Dtype  \n",
      "---  ------                 --------------  -----  \n",
      " 0   belongs_to_collection  2623 non-null   int32  \n",
      " 1   budget                 2623 non-null   int64  \n",
      " 2   genres                 2623 non-null   object \n",
      " 3   original_title         2623 non-null   object \n",
      " 4   popularity             2623 non-null   float64\n",
      " 5   production_countries   2623 non-null   object \n",
      " 6   release_date           2623 non-null   object \n",
      " 7   runtime                2622 non-null   float64\n",
      " 8   spoken_languages       2623 non-null   object \n",
      " 9   revenue                2623 non-null   int64  \n",
      "dtypes: float64(2), int32(1), int64(2), object(5)\n",
      "memory usage: 215.2+ KB\n"
     ]
    }
   ],
   "source": [
    "train.info()"
   ]
  },
  {
   "cell_type": "code",
   "execution_count": 12,
   "id": "30d4fff1",
   "metadata": {
    "tags": []
   },
   "outputs": [],
   "source": [
    "big_dict = {'genres': 'name', \n",
    " #'production_companies': 'name', \n",
    " 'production_countries': 'name',\n",
    " 'spoken_languages': 'iso_639_1' # 'name' may be used... compare iso to original language, if same we drop\n",
    " # 'Keywords': 'name' \n",
    " #'cast': ['gender','order'], # take the 'gender' from 'order' = 0 ******************\n",
    "}"
   ]
  },
  {
   "cell_type": "markdown",
   "id": "7a1b0449-28b0-4915-be7e-e4e05533ba0b",
   "metadata": {
    "tags": []
   },
   "source": [
    "##### This is a function for the loop below it"
   ]
  },
  {
   "cell_type": "code",
   "execution_count": 13,
   "id": "666e70ca-580a-42c1-bab1-f217c6071346",
   "metadata": {
    "tags": []
   },
   "outputs": [],
   "source": [
    "def feature_extractor(l, key_we_want):\n",
    "    # Input: l is the list we want to extract from.\n",
    "    #        key_we_want is the key we want lol\n",
    "    \n",
    "    return [d[key_we_want] for d in l]"
   ]
  },
  {
   "cell_type": "markdown",
   "id": "f553db73-eb1e-4248-8e6a-edbdb11c6025",
   "metadata": {},
   "source": [
    "#### This is where we tutrn those crazy columns into things we can work with"
   ]
  },
  {
   "cell_type": "code",
   "execution_count": 14,
   "id": "b5332144-e736-4e90-9394-4a7eedca4799",
   "metadata": {
    "tags": []
   },
   "outputs": [],
   "source": [
    "for col_name, info_we_want in big_dict.items():\n",
    "    \n",
    "    \n",
    "    train[col_name] = train[col_name].apply(ast.literal_eval)\n",
    "    test[col_name] = test[col_name].apply(ast.literal_eval)\n",
    "    \n",
    "    train[col_name] = train[col_name].apply(lambda x: feature_extractor(x, info_we_want))\n",
    "    test[col_name] = test[col_name].apply(lambda x: feature_extractor(x, info_we_want))\n",
    "    \n",
    "    \n",
    "    "
   ]
  },
  {
   "cell_type": "markdown",
   "id": "861b557c-f9f0-49b3-bb75-f71658a7bef3",
   "metadata": {},
   "source": [
    "### ok turn releasedate into unix"
   ]
  },
  {
   "cell_type": "code",
   "execution_count": 15,
   "id": "8a23d120-9d62-4357-8de1-50fa809746f8",
   "metadata": {
    "tags": []
   },
   "outputs": [],
   "source": [
    "train['release_date'] = train['release_date'].apply(lambda x: int(datetime.strptime(x, \"%m/%d/%y\").timestamp()))\n",
    "test['release_date'] = test['release_date'].apply(lambda x: int(datetime.strptime(x, \"%m/%d/%y\").timestamp()))"
   ]
  },
  {
   "cell_type": "markdown",
   "id": "673b9e71-254f-4a44-b7b3-c8e5df78c448",
   "metadata": {},
   "source": [
    "## dummifying the categorical columns"
   ]
  },
  {
   "cell_type": "markdown",
   "id": "3771ea09-bf5b-48f5-9546-30869c9c60a3",
   "metadata": {},
   "source": [
    "Will not be dropping first in the following three categorical values because they are all multicategory(not mutually exclusive)"
   ]
  },
  {
   "cell_type": "code",
   "execution_count": 16,
   "id": "1993a25e-e23b-4b0c-b4e2-ebbc695784fe",
   "metadata": {
    "tags": []
   },
   "outputs": [],
   "source": [
    "combined_df = pd.concat([train,test],axis=0,ignore_index=True)"
   ]
  },
  {
   "cell_type": "markdown",
   "id": "d6da4969-fc40-4627-a7d1-ab4b35e2fea5",
   "metadata": {},
   "source": [
    "genres"
   ]
  },
  {
   "cell_type": "code",
   "execution_count": 17,
   "id": "c1daf6d0-4415-4ebb-8342-1d971008d7a5",
   "metadata": {
    "tags": []
   },
   "outputs": [],
   "source": [
    "genres_dummies = pd.get_dummies(combined_df['genres'].explode(), prefix='genre')\n",
    "\n",
    "genres_dummies = genres_dummies.groupby(genres_dummies.index).sum()\n",
    "\n",
    "combined_df = pd.concat([combined_df,genres_dummies], axis=1)\n",
    "\n",
    "combined_df.drop('genres', axis=1, inplace=True)"
   ]
  },
  {
   "cell_type": "markdown",
   "id": "fe246229-a92d-4517-ad2b-0c7419faa120",
   "metadata": {
    "tags": []
   },
   "source": [
    "production_company"
   ]
  },
  {
   "cell_type": "code",
   "execution_count": 18,
   "id": "bd3764df-e0a2-4524-9777-1516857c313f",
   "metadata": {
    "tags": []
   },
   "outputs": [],
   "source": [
    "production_country_dummies = pd.get_dummies(combined_df['production_countries'].explode(), prefix='prod_country')\n",
    "\n",
    "production_country_dummies = production_country_dummies.groupby(production_country_dummies.index).sum()\n",
    "\n",
    "combined_df = pd.concat([combined_df,production_country_dummies], axis=1)\n",
    "\n",
    "combined_df.drop('production_countries', axis=1, inplace=True)"
   ]
  },
  {
   "cell_type": "markdown",
   "id": "25b2a363-863d-4ce1-994c-2823ca665258",
   "metadata": {},
   "source": [
    "spoken language"
   ]
  },
  {
   "cell_type": "code",
   "execution_count": 19,
   "id": "e4b7831e-bb50-4bb3-bf73-8b4afe41f474",
   "metadata": {
    "tags": []
   },
   "outputs": [],
   "source": [
    "spoken_language_dummies = pd.get_dummies(combined_df['spoken_languages'].explode(), prefix='spoken_lang')\n",
    "\n",
    "spoken_language_dummies = spoken_language_dummies.groupby(spoken_language_dummies.index).sum()\n",
    "\n",
    "combined_df = pd.concat([combined_df,spoken_language_dummies], axis=1)\n",
    "\n",
    "combined_df.drop('spoken_languages', axis=1, inplace=True)"
   ]
  },
  {
   "cell_type": "code",
   "execution_count": 20,
   "id": "304273b9-29f2-4068-b362-7eef4dfbf6a2",
   "metadata": {
    "tags": []
   },
   "outputs": [
    {
     "data": {
      "text/plain": [
       "(6457, 216)"
      ]
     },
     "execution_count": 20,
     "metadata": {},
     "output_type": "execute_result"
    }
   ],
   "source": [
    "combined_df.shape"
   ]
  },
  {
   "cell_type": "markdown",
   "id": "2247fb77-be27-4e53-ace1-a4273f1a0fc2",
   "metadata": {},
   "source": [
    "# Making a length of title column"
   ]
  },
  {
   "cell_type": "code",
   "execution_count": 22,
   "id": "75e6ceb2-994c-4379-b93f-aae87712c21a",
   "metadata": {
    "jp-MarkdownHeadingCollapsed": true,
    "tags": []
   },
   "outputs": [],
   "source": [
    "combined_df['length_of_title'] = combined_df['original_title'].str.len()\n"
   ]
  },
  {
   "cell_type": "code",
   "execution_count": 23,
   "id": "80c7b0c8-32d5-4684-9906-d2cc15aec266",
   "metadata": {},
   "outputs": [],
   "source": [
    "combined_df.drop(columns=['original_title'], inplace=True)"
   ]
  },
  {
   "cell_type": "markdown",
   "id": "38644dc7-e2a9-48bd-8ac3-e5d66409af9c",
   "metadata": {},
   "source": [
    "Ok splitting the daatafram back into train and test"
   ]
  },
  {
   "cell_type": "code",
   "execution_count": 24,
   "id": "f6c31251-b8b4-488a-958f-5beac48a6eaa",
   "metadata": {
    "tags": []
   },
   "outputs": [
    {
     "data": {
      "text/plain": [
       "['release_date']"
      ]
     },
     "execution_count": 24,
     "metadata": {},
     "output_type": "execute_result"
    }
   ],
   "source": [
    "object_cols = list(combined_df.select_dtypes('object').columns.values)\n",
    "object_cols"
   ]
  },
  {
   "cell_type": "code",
   "execution_count": 25,
   "id": "f798c6b3-6c36-4646-a2db-aa7c38688394",
   "metadata": {
    "tags": []
   },
   "outputs": [],
   "source": [
    "numeric_cols = list(combined_df._get_numeric_data().columns)"
   ]
  },
  {
   "cell_type": "code",
   "execution_count": 26,
   "id": "27f01494-2906-4d14-aca3-2bcc7d8daae1",
   "metadata": {
    "tags": []
   },
   "outputs": [
    {
     "data": {
      "text/plain": [
       "215"
      ]
     },
     "execution_count": 26,
     "metadata": {},
     "output_type": "execute_result"
    }
   ],
   "source": [
    "len(numeric_cols)"
   ]
  },
  {
   "cell_type": "code",
   "execution_count": 27,
   "id": "058d8a37-f719-45aa-b34d-4eff36df4daf",
   "metadata": {
    "tags": []
   },
   "outputs": [],
   "source": [
    "train_size = len(train)\n",
    "train_dummified = combined_df[:train_size]\n",
    "test_dummified = combined_df[train_size:]"
   ]
  },
  {
   "cell_type": "code",
   "execution_count": 29,
   "id": "31012a54-5a91-41d6-a57d-b7f6a9b527f4",
   "metadata": {
    "tags": []
   },
   "outputs": [],
   "source": [
    "test_dummified = test_dummified.drop(columns=['revenue'])"
   ]
  },
  {
   "cell_type": "code",
   "execution_count": 30,
   "id": "d867a0a6-c98b-4482-9629-28ffa6f86c3f",
   "metadata": {
    "tags": []
   },
   "outputs": [
    {
     "data": {
      "text/plain": [
       "(3834, 215)"
      ]
     },
     "execution_count": 30,
     "metadata": {},
     "output_type": "execute_result"
    }
   ],
   "source": [
    "test_dummified.shape"
   ]
  },
  {
   "cell_type": "code",
   "execution_count": 31,
   "id": "3bc92020-f8db-48c4-89bb-2a5579c2ce09",
   "metadata": {
    "tags": []
   },
   "outputs": [
    {
     "data": {
      "text/plain": [
       "(2623, 216)"
      ]
     },
     "execution_count": 31,
     "metadata": {},
     "output_type": "execute_result"
    }
   ],
   "source": [
    "train_dummified.shape"
   ]
  },
  {
   "cell_type": "code",
   "execution_count": null,
   "id": "5713f691-264c-4b30-8c59-9415c575970d",
   "metadata": {},
   "outputs": [],
   "source": []
  }
 ],
 "metadata": {
  "kernelspec": {
   "display_name": "Python 3 (ipykernel)",
   "language": "python",
   "name": "python3"
  },
  "language_info": {
   "codemirror_mode": {
    "name": "ipython",
    "version": 3
   },
   "file_extension": ".py",
   "mimetype": "text/x-python",
   "name": "python",
   "nbconvert_exporter": "python",
   "pygments_lexer": "ipython3",
   "version": "3.11.5"
  }
 },
 "nbformat": 4,
 "nbformat_minor": 5
}
