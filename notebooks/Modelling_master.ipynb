{
 "cells": [
  {
   "cell_type": "code",
   "execution_count": 1,
   "id": "98ec5a4f-c31e-4238-b421-3e47f928aa01",
   "metadata": {
    "tags": []
   },
   "outputs": [],
   "source": [
    "import pandas as pd\n",
    "import numpy as np\n",
    "\n",
    "from sklearn.model_selection import train_test_split, cross_val_score, GridSearchCV\n",
    "from sklearn.linear_model import LinearRegression, LogisticRegression\n",
    "from sklearn.tree import DecisionTreeRegressor\n",
    "from sklearn.preprocessing import StandardScaler\n",
    "from sklearn.ensemble import BaggingRegressor, RandomForestRegressor, AdaBoostRegressor\n",
    "from sklearn.metrics import mean_squared_error, f1_score \n",
    "from sklearn.svm import SVC, LinearSVR"
   ]
  },
  {
   "cell_type": "code",
   "execution_count": 2,
   "id": "47f3eecd-efc9-4d6c-aa95-b7b7f6ab0ac3",
   "metadata": {
    "tags": []
   },
   "outputs": [],
   "source": [
    "train = pd.read_csv('../Datasets/trainfinal.csv')\n",
    "train = train.dropna()\n",
    "test = pd.read_csv('../Datasets/testfinal.csv')"
   ]
  },
  {
   "cell_type": "code",
   "execution_count": 3,
   "id": "f9993654-88d2-41d3-af1c-40654e33126b",
   "metadata": {
    "tags": []
   },
   "outputs": [],
   "source": [
    "X = train.drop(columns=['revenue'])\n",
    "y = train['revenue']"
   ]
  },
  {
   "cell_type": "code",
   "execution_count": 4,
   "id": "026580a2-4cf5-4409-b651-4880b2147dce",
   "metadata": {
    "tags": []
   },
   "outputs": [],
   "source": [
    "X_train, X_test, y_train, y_test = train_test_split(X, y, test_size = 0.2, random_state = 42)"
   ]
  },
  {
   "cell_type": "markdown",
   "id": "1ffaf0ad-4229-4196-96e2-f9bddbe3b4fc",
   "metadata": {},
   "source": [
    "# Baseline - average of y"
   ]
  },
  {
   "cell_type": "code",
   "execution_count": 5,
   "id": "7b9d77e1-b140-47a4-96cc-6e323c8ff59b",
   "metadata": {
    "tags": []
   },
   "outputs": [
    {
     "data": {
      "text/plain": [
       "75022033.10793288"
      ]
     },
     "execution_count": 5,
     "metadata": {},
     "output_type": "execute_result"
    }
   ],
   "source": [
    "y.mean()"
   ]
  },
  {
   "cell_type": "markdown",
   "id": "fa304655-1531-4287-9634-fb4cdc52f931",
   "metadata": {
    "tags": []
   },
   "source": [
    "# Linear Regression"
   ]
  },
  {
   "cell_type": "code",
   "execution_count": 6,
   "id": "d9765a56-2fac-4eba-8dd9-1b2d593fb0e6",
   "metadata": {
    "tags": []
   },
   "outputs": [
    {
     "name": "stdout",
     "output_type": "stream",
     "text": [
      "0.6671440186505438 0.6433472353523075\n"
     ]
    }
   ],
   "source": [
    "lr = LinearRegression()\n",
    "lr.fit(X_train, y_train)\n",
    "print(lr.score(X_train, y_train), lr.score(X_test, y_test))"
   ]
  },
  {
   "cell_type": "markdown",
   "id": "74fce76a-2a98-49ec-af29-63f500016cc9",
   "metadata": {},
   "source": [
    "No real overfitting. High Bias, no acute need for regularization"
   ]
  },
  {
   "cell_type": "markdown",
   "id": "eef66ff9-ffb3-4189-bc8f-6b96a8aa6f0f",
   "metadata": {},
   "source": [
    "# random forest regressor "
   ]
  },
  {
   "cell_type": "code",
   "execution_count": 7,
   "id": "715fefc2-b40f-42be-b5e8-2617e066a798",
   "metadata": {
    "tags": []
   },
   "outputs": [],
   "source": [
    "ss = StandardScaler()\n",
    "\n",
    "X_train = ss.fit_transform(X_train)\n",
    "X_test = ss.transform(X_test)"
   ]
  },
  {
   "cell_type": "code",
   "execution_count": 8,
   "id": "8fa3df55-b79d-42cf-ae4e-dd61efc197d9",
   "metadata": {
    "tags": []
   },
   "outputs": [
    {
     "data": {
      "text/plain": [
       "(0.9532423039248441, 0.6915727484344484)"
      ]
     },
     "execution_count": 8,
     "metadata": {},
     "output_type": "execute_result"
    }
   ],
   "source": [
    "rf = RandomForestRegressor()\n",
    "rf.fit(X_train, y_train)\n",
    "rf.score(X_train, y_train), rf.score(X_test, y_test)"
   ]
  },
  {
   "cell_type": "markdown",
   "id": "7c5703ff-4064-49c9-bc5d-d6bfafc14c83",
   "metadata": {
    "tags": []
   },
   "source": [
    "### Extreme overfitting, lets hyperparameter tune . feature to improve overfit for random forest regressor model"
   ]
  },
  {
   "cell_type": "code",
   "execution_count": null,
   "id": "f4e3cc29-2945-44dc-a4d8-db80b91c421f",
   "metadata": {
    "tags": []
   },
   "outputs": [],
   "source": [
    "rf_params = {\n",
    "    'n_estimators': [100,302000], #[300, 350, 400, 450],\n",
    "    'max_depth':[8] #[6,7,8,9]\n",
    "    #'min_samples_leaf'\n",
    "}\n",
    "\n",
    "gs = GridSearchCV(rf, param_grid=rf_params, cv=5, n_jobs=-1)\n",
    "gs.fit(X_train, y_train)"
   ]
  },
  {
   "cell_type": "code",
   "execution_count": 44,
   "id": "0cfaf49b-f812-43cb-8451-d4ad91bb57eb",
   "metadata": {
    "tags": []
   },
   "outputs": [
    {
     "data": {
      "text/plain": [
       "(0.8782338730560593, 0.7067750164423225)"
      ]
     },
     "execution_count": 44,
     "metadata": {},
     "output_type": "execute_result"
    }
   ],
   "source": [
    "gs.score(X_train, y_train), gs.score(X_test, y_test)"
   ]
  },
  {
   "cell_type": "markdown",
   "id": "5e9dab0c-f9d4-465b-9fc1-8c9f0df94213",
   "metadata": {},
   "source": [
    "## Reduced overfitting a little bit but we need to do more"
   ]
  },
  {
   "cell_type": "code",
   "execution_count": 45,
   "id": "e95bd3d5-9d69-42d7-bbf9-0a04c2687352",
   "metadata": {
    "tags": []
   },
   "outputs": [
    {
     "data": {
      "text/plain": [
       "{'max_depth': 8, 'n_estimators': 300}"
      ]
     },
     "execution_count": 45,
     "metadata": {},
     "output_type": "execute_result"
    }
   ],
   "source": [
    "gs.best_params_"
   ]
  },
  {
   "cell_type": "code",
   "execution_count": 46,
   "id": "b2573dd2-bc08-4eca-8957-9bb1b9de0215",
   "metadata": {
    "tags": []
   },
   "outputs": [
    {
     "data": {
      "text/plain": [
       "4816841466051509.0"
      ]
     },
     "execution_count": 46,
     "metadata": {},
     "output_type": "execute_result"
    }
   ],
   "source": [
    "preds_rf = gs.predict(X_test)\n",
    "MSE_rf = mean_squared_error(y_test, preds_rf)\n",
    "MSE_rf"
   ]
  },
  {
   "cell_type": "markdown",
   "id": "1d3c702c-1160-41fd-8f7a-24e279ed2780",
   "metadata": {},
   "source": [
    "### MSE is high, train score is higher than test score, model is overfit."
   ]
  },
  {
   "cell_type": "markdown",
   "id": "bc245ab3-7b0a-4c29-8834-ce8ed5b8e707",
   "metadata": {},
   "source": [
    "# Now to Generate our predictions on test"
   ]
  },
  {
   "cell_type": "code",
   "execution_count": 47,
   "id": "8199daf0-1984-4ecf-9010-d178a0e85015",
   "metadata": {
    "tags": []
   },
   "outputs": [
    {
     "data": {
      "text/plain": [
       "72559718.4791077"
      ]
     },
     "execution_count": 47,
     "metadata": {},
     "output_type": "execute_result"
    }
   ],
   "source": [
    "preds_rf.mean()"
   ]
  },
  {
   "cell_type": "markdown",
   "id": "8adc7350-dc1a-4b26-9465-28f26e6ad162",
   "metadata": {
    "tags": []
   },
   "source": [
    "# The following models are for experimentation purposes"
   ]
  },
  {
   "cell_type": "markdown",
   "id": "efbcebea-06cf-4b93-8367-5e5c2f28ba7a",
   "metadata": {},
   "source": [
    "### Support vector machine "
   ]
  },
  {
   "cell_type": "code",
   "execution_count": 23,
   "id": "2f783e8c-365d-4384-acf0-7b389ed4c9f9",
   "metadata": {
    "tags": []
   },
   "outputs": [
    {
     "data": {
      "text/plain": [
       "(-0.26847948537131705, -0.277846849348665)"
      ]
     },
     "execution_count": 23,
     "metadata": {},
     "output_type": "execute_result"
    }
   ],
   "source": [
    "svr = LinearSVR(dual='auto', random_state=42, max_iter=10000)\n",
    "svr.fit(X_train, y_train)\n",
    "svr.score(X_train, y_train), svr.score(X_test, y_test)"
   ]
  },
  {
   "cell_type": "code",
   "execution_count": 24,
   "id": "2abe3cc5-3a81-4d8e-8d73-33932401b2fa",
   "metadata": {
    "tags": []
   },
   "outputs": [],
   "source": [
    "## The train score and test score are negative, this model is bad"
   ]
  },
  {
   "cell_type": "markdown",
   "id": "70a5971f-38ea-41a5-900e-9896ecb386e0",
   "metadata": {
    "tags": []
   },
   "source": [
    "## Decision Tree Regressor"
   ]
  },
  {
   "cell_type": "code",
   "execution_count": 19,
   "id": "5d6277b0-8a6c-4ad1-bd98-0be5dd35e993",
   "metadata": {
    "tags": []
   },
   "outputs": [
    {
     "data": {
      "text/plain": [
       "(1.0, 0.25451342744066385)"
      ]
     },
     "execution_count": 19,
     "metadata": {},
     "output_type": "execute_result"
    }
   ],
   "source": [
    "dtr = DecisionTreeRegressor()\n",
    "dtr.fit(X_train,y_train)\n",
    "dtr.score(X_train, y_train), dtr.score(X_test,y_test)"
   ]
  },
  {
   "cell_type": "code",
   "execution_count": 21,
   "id": "a8584cc4-74d7-421f-87d3-c1f3b1989a33",
   "metadata": {
    "tags": []
   },
   "outputs": [],
   "source": [
    "grid = GridSearchCV(estimator=DecisionTreeRegressor(),\n",
    "                   param_grid={'max_depth' : [3, 5, 7, 10],\n",
    "                              'min_samples_split' : [5, 10, 15, 20],\n",
    "                              'min_samples_leaf' : [2, 3, 4, 5, 6, 7]},\n",
    "                   cv = 5,\n",
    "                   verbose=1)"
   ]
  },
  {
   "cell_type": "code",
   "execution_count": 22,
   "id": "2591cd46-41d4-4f9e-86ca-8b35f752cad3",
   "metadata": {
    "tags": []
   },
   "outputs": [
    {
     "name": "stdout",
     "output_type": "stream",
     "text": [
      "Fitting 5 folds for each of 96 candidates, totalling 480 fits\n"
     ]
    },
    {
     "data": {
      "text/plain": [
       "(0.7527243630992329, 0.5341858857682387)"
      ]
     },
     "execution_count": 22,
     "metadata": {},
     "output_type": "execute_result"
    }
   ],
   "source": [
    "grid.fit(X_train, y_train)\n",
    "grid.score(X_train, y_train), grid.score(X_test,y_test)"
   ]
  },
  {
   "cell_type": "code",
   "execution_count": 29,
   "id": "95145012-b519-4a33-9152-e6372ceef3cd",
   "metadata": {
    "tags": []
   },
   "outputs": [
    {
     "data": {
      "text/plain": [
       "6873144575180642.0"
      ]
     },
     "execution_count": 29,
     "metadata": {},
     "output_type": "execute_result"
    }
   ],
   "source": [
    "preds_dtr = grid.predict(X_test)\n",
    "MSE_dtr = mean_squared_error(y_test,preds_dtr)\n",
    "MSE_dtr"
   ]
  },
  {
   "cell_type": "code",
   "execution_count": null,
   "id": "5f1301f8-84ad-4699-b634-c6ef130bfa9b",
   "metadata": {},
   "outputs": [],
   "source": []
  }
 ],
 "metadata": {
  "kernelspec": {
   "display_name": "Python 3 (ipykernel)",
   "language": "python",
   "name": "python3"
  },
  "language_info": {
   "codemirror_mode": {
    "name": "ipython",
    "version": 3
   },
   "file_extension": ".py",
   "mimetype": "text/x-python",
   "name": "python",
   "nbconvert_exporter": "python",
   "pygments_lexer": "ipython3",
   "version": "3.11.5"
  }
 },
 "nbformat": 4,
 "nbformat_minor": 5
}
